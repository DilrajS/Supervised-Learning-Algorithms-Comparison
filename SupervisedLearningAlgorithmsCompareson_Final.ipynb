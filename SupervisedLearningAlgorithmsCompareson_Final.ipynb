{
  "nbformat": 4,
  "nbformat_minor": 0,
  "metadata": {
    "kernelspec": {
      "display_name": "Python 3",
      "language": "python",
      "name": "python3"
    },
    "language_info": {
      "codemirror_mode": {
        "name": "ipython",
        "version": 3
      },
      "file_extension": ".py",
      "mimetype": "text/x-python",
      "name": "python",
      "nbconvert_exporter": "python",
      "pygments_lexer": "ipython3",
      "version": "3.7.6"
    },
    "colab": {
      "name": "Final_3set.ipynb",
      "provenance": [],
      "collapsed_sections": []
    }
  },
  "cells": [
    {
      "cell_type": "code",
      "metadata": {
        "id": "zsuAylFqOXiR"
      },
      "source": [
        "#libraries for analyzing and preparing data \n",
        "import pandas as pd \n",
        "import numpy as np \n",
        "from sklearn.preprocessing import StandardScaler \n",
        "from sklearn.model_selection import GridSearchCV \n",
        "from sklearn.model_selection import StratifiedKFold\n",
        "from sklearn.model_selection import train_test_split \n",
        "\n",
        "#libraries for algorithms\n",
        "from sklearn.pipeline import Pipeline\n",
        "from sklearn import tree \n",
        "from sklearn import datasets \n",
        "from sklearn import neighbors\n",
        "from sklearn.neighbors import KNeighborsClassifier\n",
        "from sklearn.linear_model import LogisticRegression\n",
        "#from sklearn.ensemble import RandomForestClassifier \n",
        "\n",
        "#libraries to evaluate performance \n",
        "from sklearn.metrics import accuracy_score \n",
        "import matplotlib\n",
        "import matplotlib.pyplot as plt\n",
        "from numpy.matlib import repmat\n",
        "from scipy import stats\n",
        "from scipy.stats import ttest_ind, ttest_rel"
      ],
      "execution_count": 7,
      "outputs": []
    },
    {
      "cell_type": "code",
      "metadata": {
        "id": "ZpSILeazOXib"
      },
      "source": [
        "#load data\n",
        "dfcolumns = ['age', 'workclass', 'fnlwgt', 'education', 'education-num', 'marital-status',\n",
        "           'occupation', 'relationship', 'race', 'sex', 'capital-gain', 'capital-loss', \n",
        "           'hours-per-week', 'native-country', 'income']\n",
        "df2columns = ['lettr', 'x-box','y-box','width','height','onpix','x-bar','y-bar','x2bar','y2bar','xybar','x2ybar','xy2bar','x-ege','xegvy','y-ege','yegvx']\n",
        "df3columns = ['Elevation','Aspect','Slope','Horizontal_Distance_To_Hydrology','Vertical_Distance_To_Hydrology','Horizontal_Distance_To_Roadways','Hillshade_9am','Hillshade_Noon','Hillshade_3pm','Horizontal_Distance_To_Fire_Points','Wilderness_Area1','Wilderness_Area2','Wilderness_Area3','Wilderness_Area4',\n",
        "              'Soil_Type1','Soil_Type2','3','Soil_Type4','Soil_Type5','Soil_Type6','Soil_Type7','Soil_Type8','Soil_Type9','Soil_Type10','Soil_Type11','Soil_Type12','Soil_Type13','Soil_Type14','Soil_Type15','Soil_Type16','Soil_Type17','Soil_Type18','Soil_Type19','Soil_Type20','Soil_Type21','Soil_Type22','Soil_Type23',\n",
        "              'Soil_Type24','Soil_Type25','Soil_Type26','Soil_Type27','Soil_Type28','Soil_Type29','Soil_Type30','Soil_Type31','Soil_Type32','Soil_Type33','Soil_Type34','Soil_Type35','Soil_Type36','Soil_Type37','Soil_Type38','Soil_Type39','Soil_Type40','Cover_Type']\n",
        "\n",
        "df = pd.read_csv(\"adult.data\", names=dfcolumns)\n",
        "df2 = pd.read_csv(\"letter-recognition.data\", names=df2columns)\n",
        "df3 = pd.read_csv(\"covtype.data.gz\", names=df3columns)"
      ],
      "execution_count": null,
      "outputs": []
    },
    {
      "cell_type": "code",
      "metadata": {
        "colab": {
          "base_uri": "https://localhost:8080/",
          "height": 325
        },
        "id": "PqVOBhKNOXid",
        "outputId": "ffed0af6-c880-4aa2-f21b-8c0cf0f8ac31"
      },
      "source": [
        "df.head()\n",
        "#df2.head()\n",
        "#df3.head()"
      ],
      "execution_count": null,
      "outputs": [
        {
          "output_type": "execute_result",
          "data": {
            "text/html": [
              "<div>\n",
              "<style scoped>\n",
              "    .dataframe tbody tr th:only-of-type {\n",
              "        vertical-align: middle;\n",
              "    }\n",
              "\n",
              "    .dataframe tbody tr th {\n",
              "        vertical-align: top;\n",
              "    }\n",
              "\n",
              "    .dataframe thead th {\n",
              "        text-align: right;\n",
              "    }\n",
              "</style>\n",
              "<table border=\"1\" class=\"dataframe\">\n",
              "  <thead>\n",
              "    <tr style=\"text-align: right;\">\n",
              "      <th></th>\n",
              "      <th>age</th>\n",
              "      <th>fnlwgt</th>\n",
              "      <th>education-num</th>\n",
              "      <th>capital-gain</th>\n",
              "      <th>capital-loss</th>\n",
              "      <th>hours-per-week</th>\n",
              "      <th>workclass_ ?</th>\n",
              "      <th>workclass_ Federal-gov</th>\n",
              "      <th>workclass_ Local-gov</th>\n",
              "      <th>workclass_ Never-worked</th>\n",
              "      <th>workclass_ Private</th>\n",
              "      <th>workclass_ Self-emp-inc</th>\n",
              "      <th>workclass_ Self-emp-not-inc</th>\n",
              "      <th>workclass_ State-gov</th>\n",
              "      <th>workclass_ Without-pay</th>\n",
              "      <th>education_ 10th</th>\n",
              "      <th>education_ 11th</th>\n",
              "      <th>education_ 12th</th>\n",
              "      <th>education_ 1st-4th</th>\n",
              "      <th>education_ 5th-6th</th>\n",
              "      <th>education_ 7th-8th</th>\n",
              "      <th>education_ 9th</th>\n",
              "      <th>education_ Assoc-acdm</th>\n",
              "      <th>education_ Assoc-voc</th>\n",
              "      <th>education_ Bachelors</th>\n",
              "      <th>education_ Doctorate</th>\n",
              "      <th>education_ HS-grad</th>\n",
              "      <th>education_ Masters</th>\n",
              "      <th>education_ Preschool</th>\n",
              "      <th>education_ Prof-school</th>\n",
              "      <th>education_ Some-college</th>\n",
              "      <th>marital-status_ Divorced</th>\n",
              "      <th>marital-status_ Married-AF-spouse</th>\n",
              "      <th>marital-status_ Married-civ-spouse</th>\n",
              "      <th>marital-status_ Married-spouse-absent</th>\n",
              "      <th>marital-status_ Never-married</th>\n",
              "      <th>marital-status_ Separated</th>\n",
              "      <th>marital-status_ Widowed</th>\n",
              "      <th>occupation_ ?</th>\n",
              "      <th>occupation_ Adm-clerical</th>\n",
              "      <th>...</th>\n",
              "      <th>native-country_ Columbia</th>\n",
              "      <th>native-country_ Cuba</th>\n",
              "      <th>native-country_ Dominican-Republic</th>\n",
              "      <th>native-country_ Ecuador</th>\n",
              "      <th>native-country_ El-Salvador</th>\n",
              "      <th>native-country_ England</th>\n",
              "      <th>native-country_ France</th>\n",
              "      <th>native-country_ Germany</th>\n",
              "      <th>native-country_ Greece</th>\n",
              "      <th>native-country_ Guatemala</th>\n",
              "      <th>native-country_ Haiti</th>\n",
              "      <th>native-country_ Holand-Netherlands</th>\n",
              "      <th>native-country_ Honduras</th>\n",
              "      <th>native-country_ Hong</th>\n",
              "      <th>native-country_ Hungary</th>\n",
              "      <th>native-country_ India</th>\n",
              "      <th>native-country_ Iran</th>\n",
              "      <th>native-country_ Ireland</th>\n",
              "      <th>native-country_ Italy</th>\n",
              "      <th>native-country_ Jamaica</th>\n",
              "      <th>native-country_ Japan</th>\n",
              "      <th>native-country_ Laos</th>\n",
              "      <th>native-country_ Mexico</th>\n",
              "      <th>native-country_ Nicaragua</th>\n",
              "      <th>native-country_ Outlying-US(Guam-USVI-etc)</th>\n",
              "      <th>native-country_ Peru</th>\n",
              "      <th>native-country_ Philippines</th>\n",
              "      <th>native-country_ Poland</th>\n",
              "      <th>native-country_ Portugal</th>\n",
              "      <th>native-country_ Puerto-Rico</th>\n",
              "      <th>native-country_ Scotland</th>\n",
              "      <th>native-country_ South</th>\n",
              "      <th>native-country_ Taiwan</th>\n",
              "      <th>native-country_ Thailand</th>\n",
              "      <th>native-country_ Trinadad&amp;Tobago</th>\n",
              "      <th>native-country_ United-States</th>\n",
              "      <th>native-country_ Vietnam</th>\n",
              "      <th>native-country_ Yugoslavia</th>\n",
              "      <th>income_ &lt;=50K</th>\n",
              "      <th>income_ &gt;50K</th>\n",
              "    </tr>\n",
              "  </thead>\n",
              "  <tbody>\n",
              "    <tr>\n",
              "      <th>0</th>\n",
              "      <td>39</td>\n",
              "      <td>77516</td>\n",
              "      <td>13</td>\n",
              "      <td>2174</td>\n",
              "      <td>0</td>\n",
              "      <td>40</td>\n",
              "      <td>0</td>\n",
              "      <td>0</td>\n",
              "      <td>0</td>\n",
              "      <td>0</td>\n",
              "      <td>0</td>\n",
              "      <td>0</td>\n",
              "      <td>0</td>\n",
              "      <td>1</td>\n",
              "      <td>0</td>\n",
              "      <td>0</td>\n",
              "      <td>0</td>\n",
              "      <td>0</td>\n",
              "      <td>0</td>\n",
              "      <td>0</td>\n",
              "      <td>0</td>\n",
              "      <td>0</td>\n",
              "      <td>0</td>\n",
              "      <td>0</td>\n",
              "      <td>1</td>\n",
              "      <td>0</td>\n",
              "      <td>0</td>\n",
              "      <td>0</td>\n",
              "      <td>0</td>\n",
              "      <td>0</td>\n",
              "      <td>0</td>\n",
              "      <td>0</td>\n",
              "      <td>0</td>\n",
              "      <td>0</td>\n",
              "      <td>0</td>\n",
              "      <td>1</td>\n",
              "      <td>0</td>\n",
              "      <td>0</td>\n",
              "      <td>0</td>\n",
              "      <td>1</td>\n",
              "      <td>...</td>\n",
              "      <td>0</td>\n",
              "      <td>0</td>\n",
              "      <td>0</td>\n",
              "      <td>0</td>\n",
              "      <td>0</td>\n",
              "      <td>0</td>\n",
              "      <td>0</td>\n",
              "      <td>0</td>\n",
              "      <td>0</td>\n",
              "      <td>0</td>\n",
              "      <td>0</td>\n",
              "      <td>0</td>\n",
              "      <td>0</td>\n",
              "      <td>0</td>\n",
              "      <td>0</td>\n",
              "      <td>0</td>\n",
              "      <td>0</td>\n",
              "      <td>0</td>\n",
              "      <td>0</td>\n",
              "      <td>0</td>\n",
              "      <td>0</td>\n",
              "      <td>0</td>\n",
              "      <td>0</td>\n",
              "      <td>0</td>\n",
              "      <td>0</td>\n",
              "      <td>0</td>\n",
              "      <td>0</td>\n",
              "      <td>0</td>\n",
              "      <td>0</td>\n",
              "      <td>0</td>\n",
              "      <td>0</td>\n",
              "      <td>0</td>\n",
              "      <td>0</td>\n",
              "      <td>0</td>\n",
              "      <td>0</td>\n",
              "      <td>1</td>\n",
              "      <td>0</td>\n",
              "      <td>0</td>\n",
              "      <td>1</td>\n",
              "      <td>0</td>\n",
              "    </tr>\n",
              "    <tr>\n",
              "      <th>1</th>\n",
              "      <td>50</td>\n",
              "      <td>83311</td>\n",
              "      <td>13</td>\n",
              "      <td>0</td>\n",
              "      <td>0</td>\n",
              "      <td>13</td>\n",
              "      <td>0</td>\n",
              "      <td>0</td>\n",
              "      <td>0</td>\n",
              "      <td>0</td>\n",
              "      <td>0</td>\n",
              "      <td>0</td>\n",
              "      <td>1</td>\n",
              "      <td>0</td>\n",
              "      <td>0</td>\n",
              "      <td>0</td>\n",
              "      <td>0</td>\n",
              "      <td>0</td>\n",
              "      <td>0</td>\n",
              "      <td>0</td>\n",
              "      <td>0</td>\n",
              "      <td>0</td>\n",
              "      <td>0</td>\n",
              "      <td>0</td>\n",
              "      <td>1</td>\n",
              "      <td>0</td>\n",
              "      <td>0</td>\n",
              "      <td>0</td>\n",
              "      <td>0</td>\n",
              "      <td>0</td>\n",
              "      <td>0</td>\n",
              "      <td>0</td>\n",
              "      <td>0</td>\n",
              "      <td>1</td>\n",
              "      <td>0</td>\n",
              "      <td>0</td>\n",
              "      <td>0</td>\n",
              "      <td>0</td>\n",
              "      <td>0</td>\n",
              "      <td>0</td>\n",
              "      <td>...</td>\n",
              "      <td>0</td>\n",
              "      <td>0</td>\n",
              "      <td>0</td>\n",
              "      <td>0</td>\n",
              "      <td>0</td>\n",
              "      <td>0</td>\n",
              "      <td>0</td>\n",
              "      <td>0</td>\n",
              "      <td>0</td>\n",
              "      <td>0</td>\n",
              "      <td>0</td>\n",
              "      <td>0</td>\n",
              "      <td>0</td>\n",
              "      <td>0</td>\n",
              "      <td>0</td>\n",
              "      <td>0</td>\n",
              "      <td>0</td>\n",
              "      <td>0</td>\n",
              "      <td>0</td>\n",
              "      <td>0</td>\n",
              "      <td>0</td>\n",
              "      <td>0</td>\n",
              "      <td>0</td>\n",
              "      <td>0</td>\n",
              "      <td>0</td>\n",
              "      <td>0</td>\n",
              "      <td>0</td>\n",
              "      <td>0</td>\n",
              "      <td>0</td>\n",
              "      <td>0</td>\n",
              "      <td>0</td>\n",
              "      <td>0</td>\n",
              "      <td>0</td>\n",
              "      <td>0</td>\n",
              "      <td>0</td>\n",
              "      <td>1</td>\n",
              "      <td>0</td>\n",
              "      <td>0</td>\n",
              "      <td>1</td>\n",
              "      <td>0</td>\n",
              "    </tr>\n",
              "    <tr>\n",
              "      <th>2</th>\n",
              "      <td>38</td>\n",
              "      <td>215646</td>\n",
              "      <td>9</td>\n",
              "      <td>0</td>\n",
              "      <td>0</td>\n",
              "      <td>40</td>\n",
              "      <td>0</td>\n",
              "      <td>0</td>\n",
              "      <td>0</td>\n",
              "      <td>0</td>\n",
              "      <td>1</td>\n",
              "      <td>0</td>\n",
              "      <td>0</td>\n",
              "      <td>0</td>\n",
              "      <td>0</td>\n",
              "      <td>0</td>\n",
              "      <td>0</td>\n",
              "      <td>0</td>\n",
              "      <td>0</td>\n",
              "      <td>0</td>\n",
              "      <td>0</td>\n",
              "      <td>0</td>\n",
              "      <td>0</td>\n",
              "      <td>0</td>\n",
              "      <td>0</td>\n",
              "      <td>0</td>\n",
              "      <td>1</td>\n",
              "      <td>0</td>\n",
              "      <td>0</td>\n",
              "      <td>0</td>\n",
              "      <td>0</td>\n",
              "      <td>1</td>\n",
              "      <td>0</td>\n",
              "      <td>0</td>\n",
              "      <td>0</td>\n",
              "      <td>0</td>\n",
              "      <td>0</td>\n",
              "      <td>0</td>\n",
              "      <td>0</td>\n",
              "      <td>0</td>\n",
              "      <td>...</td>\n",
              "      <td>0</td>\n",
              "      <td>0</td>\n",
              "      <td>0</td>\n",
              "      <td>0</td>\n",
              "      <td>0</td>\n",
              "      <td>0</td>\n",
              "      <td>0</td>\n",
              "      <td>0</td>\n",
              "      <td>0</td>\n",
              "      <td>0</td>\n",
              "      <td>0</td>\n",
              "      <td>0</td>\n",
              "      <td>0</td>\n",
              "      <td>0</td>\n",
              "      <td>0</td>\n",
              "      <td>0</td>\n",
              "      <td>0</td>\n",
              "      <td>0</td>\n",
              "      <td>0</td>\n",
              "      <td>0</td>\n",
              "      <td>0</td>\n",
              "      <td>0</td>\n",
              "      <td>0</td>\n",
              "      <td>0</td>\n",
              "      <td>0</td>\n",
              "      <td>0</td>\n",
              "      <td>0</td>\n",
              "      <td>0</td>\n",
              "      <td>0</td>\n",
              "      <td>0</td>\n",
              "      <td>0</td>\n",
              "      <td>0</td>\n",
              "      <td>0</td>\n",
              "      <td>0</td>\n",
              "      <td>0</td>\n",
              "      <td>1</td>\n",
              "      <td>0</td>\n",
              "      <td>0</td>\n",
              "      <td>1</td>\n",
              "      <td>0</td>\n",
              "    </tr>\n",
              "    <tr>\n",
              "      <th>3</th>\n",
              "      <td>53</td>\n",
              "      <td>234721</td>\n",
              "      <td>7</td>\n",
              "      <td>0</td>\n",
              "      <td>0</td>\n",
              "      <td>40</td>\n",
              "      <td>0</td>\n",
              "      <td>0</td>\n",
              "      <td>0</td>\n",
              "      <td>0</td>\n",
              "      <td>1</td>\n",
              "      <td>0</td>\n",
              "      <td>0</td>\n",
              "      <td>0</td>\n",
              "      <td>0</td>\n",
              "      <td>0</td>\n",
              "      <td>1</td>\n",
              "      <td>0</td>\n",
              "      <td>0</td>\n",
              "      <td>0</td>\n",
              "      <td>0</td>\n",
              "      <td>0</td>\n",
              "      <td>0</td>\n",
              "      <td>0</td>\n",
              "      <td>0</td>\n",
              "      <td>0</td>\n",
              "      <td>0</td>\n",
              "      <td>0</td>\n",
              "      <td>0</td>\n",
              "      <td>0</td>\n",
              "      <td>0</td>\n",
              "      <td>0</td>\n",
              "      <td>0</td>\n",
              "      <td>1</td>\n",
              "      <td>0</td>\n",
              "      <td>0</td>\n",
              "      <td>0</td>\n",
              "      <td>0</td>\n",
              "      <td>0</td>\n",
              "      <td>0</td>\n",
              "      <td>...</td>\n",
              "      <td>0</td>\n",
              "      <td>0</td>\n",
              "      <td>0</td>\n",
              "      <td>0</td>\n",
              "      <td>0</td>\n",
              "      <td>0</td>\n",
              "      <td>0</td>\n",
              "      <td>0</td>\n",
              "      <td>0</td>\n",
              "      <td>0</td>\n",
              "      <td>0</td>\n",
              "      <td>0</td>\n",
              "      <td>0</td>\n",
              "      <td>0</td>\n",
              "      <td>0</td>\n",
              "      <td>0</td>\n",
              "      <td>0</td>\n",
              "      <td>0</td>\n",
              "      <td>0</td>\n",
              "      <td>0</td>\n",
              "      <td>0</td>\n",
              "      <td>0</td>\n",
              "      <td>0</td>\n",
              "      <td>0</td>\n",
              "      <td>0</td>\n",
              "      <td>0</td>\n",
              "      <td>0</td>\n",
              "      <td>0</td>\n",
              "      <td>0</td>\n",
              "      <td>0</td>\n",
              "      <td>0</td>\n",
              "      <td>0</td>\n",
              "      <td>0</td>\n",
              "      <td>0</td>\n",
              "      <td>0</td>\n",
              "      <td>1</td>\n",
              "      <td>0</td>\n",
              "      <td>0</td>\n",
              "      <td>1</td>\n",
              "      <td>0</td>\n",
              "    </tr>\n",
              "    <tr>\n",
              "      <th>4</th>\n",
              "      <td>28</td>\n",
              "      <td>338409</td>\n",
              "      <td>13</td>\n",
              "      <td>0</td>\n",
              "      <td>0</td>\n",
              "      <td>40</td>\n",
              "      <td>0</td>\n",
              "      <td>0</td>\n",
              "      <td>0</td>\n",
              "      <td>0</td>\n",
              "      <td>1</td>\n",
              "      <td>0</td>\n",
              "      <td>0</td>\n",
              "      <td>0</td>\n",
              "      <td>0</td>\n",
              "      <td>0</td>\n",
              "      <td>0</td>\n",
              "      <td>0</td>\n",
              "      <td>0</td>\n",
              "      <td>0</td>\n",
              "      <td>0</td>\n",
              "      <td>0</td>\n",
              "      <td>0</td>\n",
              "      <td>0</td>\n",
              "      <td>1</td>\n",
              "      <td>0</td>\n",
              "      <td>0</td>\n",
              "      <td>0</td>\n",
              "      <td>0</td>\n",
              "      <td>0</td>\n",
              "      <td>0</td>\n",
              "      <td>0</td>\n",
              "      <td>0</td>\n",
              "      <td>1</td>\n",
              "      <td>0</td>\n",
              "      <td>0</td>\n",
              "      <td>0</td>\n",
              "      <td>0</td>\n",
              "      <td>0</td>\n",
              "      <td>0</td>\n",
              "      <td>...</td>\n",
              "      <td>0</td>\n",
              "      <td>1</td>\n",
              "      <td>0</td>\n",
              "      <td>0</td>\n",
              "      <td>0</td>\n",
              "      <td>0</td>\n",
              "      <td>0</td>\n",
              "      <td>0</td>\n",
              "      <td>0</td>\n",
              "      <td>0</td>\n",
              "      <td>0</td>\n",
              "      <td>0</td>\n",
              "      <td>0</td>\n",
              "      <td>0</td>\n",
              "      <td>0</td>\n",
              "      <td>0</td>\n",
              "      <td>0</td>\n",
              "      <td>0</td>\n",
              "      <td>0</td>\n",
              "      <td>0</td>\n",
              "      <td>0</td>\n",
              "      <td>0</td>\n",
              "      <td>0</td>\n",
              "      <td>0</td>\n",
              "      <td>0</td>\n",
              "      <td>0</td>\n",
              "      <td>0</td>\n",
              "      <td>0</td>\n",
              "      <td>0</td>\n",
              "      <td>0</td>\n",
              "      <td>0</td>\n",
              "      <td>0</td>\n",
              "      <td>0</td>\n",
              "      <td>0</td>\n",
              "      <td>0</td>\n",
              "      <td>0</td>\n",
              "      <td>0</td>\n",
              "      <td>0</td>\n",
              "      <td>1</td>\n",
              "      <td>0</td>\n",
              "    </tr>\n",
              "  </tbody>\n",
              "</table>\n",
              "<p>5 rows × 110 columns</p>\n",
              "</div>"
            ],
            "text/plain": [
              "   age  fnlwgt  ...  income_ <=50K  income_ >50K\n",
              "0   39   77516  ...              1             0\n",
              "1   50   83311  ...              1             0\n",
              "2   38  215646  ...              1             0\n",
              "3   53  234721  ...              1             0\n",
              "4   28  338409  ...              1             0\n",
              "\n",
              "[5 rows x 110 columns]"
            ]
          },
          "metadata": {
            "tags": []
          },
          "execution_count": 75
        }
      ]
    },
    {
      "cell_type": "code",
      "metadata": {
        "colab": {
          "base_uri": "https://localhost:8080/"
        },
        "id": "YuE6IeZ-OXig",
        "outputId": "ede3fe45-4d13-4777-d4b0-36e2e6e3fc20"
      },
      "source": [
        "df.shape, df2.shape, df3.shape"
      ],
      "execution_count": null,
      "outputs": [
        {
          "output_type": "execute_result",
          "data": {
            "text/plain": [
              "((32561, 15), (20000, 17), (581012, 55))"
            ]
          },
          "metadata": {
            "tags": []
          },
          "execution_count": 41
        }
      ]
    },
    {
      "cell_type": "markdown",
      "metadata": {
        "id": "Fzd5yNbiOXig"
      },
      "source": [
        "## Data Cleaning\n",
        "#### Adult dataset"
      ]
    },
    {
      "cell_type": "code",
      "metadata": {
        "id": "IJKn7LwVOXih"
      },
      "source": [
        "#encode categorical data \n",
        "df = pd.get_dummies(df)\n",
        "#df"
      ],
      "execution_count": null,
      "outputs": []
    },
    {
      "cell_type": "code",
      "metadata": {
        "colab": {
          "base_uri": "https://localhost:8080/"
        },
        "id": "2qrYjr5iOXii",
        "outputId": "8d9d8806-a508-40d7-a63c-53d822d35af5"
      },
      "source": [
        "df.replace(\"?\", np.NaN)\n",
        "df.dropna()\n",
        "df.shape"
      ],
      "execution_count": null,
      "outputs": [
        {
          "output_type": "execute_result",
          "data": {
            "text/plain": [
              "(32561, 110)"
            ]
          },
          "metadata": {
            "tags": []
          },
          "execution_count": 59
        }
      ]
    },
    {
      "cell_type": "markdown",
      "metadata": {
        "id": "n27GIRDwz1YS"
      },
      "source": [
        "## Data Cleaning\n",
        "#### Letter dataset"
      ]
    },
    {
      "cell_type": "code",
      "metadata": {
        "id": "x9EtJK4d01gn"
      },
      "source": [
        "def check(let):\n",
        "  if (let >= 'A' and let <= 'M'):\n",
        "    return 1\n",
        "  else:\n",
        "    return -1"
      ],
      "execution_count": null,
      "outputs": []
    },
    {
      "cell_type": "code",
      "metadata": {
        "id": "BkE1ZqjpzzQU"
      },
      "source": [
        "df2['lettr'] = df2['lettr'].apply(check)\n",
        "#df2\n"
      ],
      "execution_count": null,
      "outputs": []
    },
    {
      "cell_type": "code",
      "metadata": {
        "id": "s8S1kQNkzz6o"
      },
      "source": [
        "df2 = pd.get_dummies(df2)\n",
        "#df2"
      ],
      "execution_count": null,
      "outputs": []
    },
    {
      "cell_type": "code",
      "metadata": {
        "colab": {
          "base_uri": "https://localhost:8080/"
        },
        "id": "lv1aC6Jv1ngQ",
        "outputId": "0a6a5f08-ae2f-4700-9587-bad434d9666a"
      },
      "source": [
        "df2.replace(\"?\", np.NaN)\n",
        "df2.dropna()\n",
        "df2.shape"
      ],
      "execution_count": null,
      "outputs": [
        {
          "output_type": "execute_result",
          "data": {
            "text/plain": [
              "(20000, 17)"
            ]
          },
          "metadata": {
            "tags": []
          },
          "execution_count": 66
        }
      ]
    },
    {
      "cell_type": "markdown",
      "metadata": {
        "id": "ifkJ_J7_4s-M"
      },
      "source": [
        "## Data Cleaning\n",
        "#### Cov dataset"
      ]
    },
    {
      "cell_type": "code",
      "metadata": {
        "colab": {
          "base_uri": "https://localhost:8080/"
        },
        "id": "iZKQ-SOQ5Fyp",
        "outputId": "db303ec2-4d9c-4686-c337-c4546a439d43"
      },
      "source": [
        "# Finds which value occus the most in the last column\n",
        "counts = df3['Cover_Type'].value_counts().to_dict() \n",
        "print(counts)\n",
        "#2 is the highest."
      ],
      "execution_count": null,
      "outputs": [
        {
          "output_type": "stream",
          "text": [
            "{2: 283301, 1: 211840, 3: 35754, 7: 20510, 6: 17367, 5: 9493, 4: 2747}\n"
          ],
          "name": "stdout"
        }
      ]
    },
    {
      "cell_type": "code",
      "metadata": {
        "colab": {
          "base_uri": "https://localhost:8080/",
          "height": 444
        },
        "id": "HSoV2pIj1npC",
        "outputId": "367d2e29-78e9-4834-9605-0ea1ad7d4aa0"
      },
      "source": [
        "def checkThree(num):\n",
        "  if num == 2:\n",
        "    return 1\n",
        "  else:\n",
        "    return -1\n",
        "\n",
        "df3['Cover_Type'] = df3['Cover_Type'].apply(checkThree)\n",
        "df3"
      ],
      "execution_count": null,
      "outputs": [
        {
          "output_type": "execute_result",
          "data": {
            "text/html": [
              "<div>\n",
              "<style scoped>\n",
              "    .dataframe tbody tr th:only-of-type {\n",
              "        vertical-align: middle;\n",
              "    }\n",
              "\n",
              "    .dataframe tbody tr th {\n",
              "        vertical-align: top;\n",
              "    }\n",
              "\n",
              "    .dataframe thead th {\n",
              "        text-align: right;\n",
              "    }\n",
              "</style>\n",
              "<table border=\"1\" class=\"dataframe\">\n",
              "  <thead>\n",
              "    <tr style=\"text-align: right;\">\n",
              "      <th></th>\n",
              "      <th>Elevation</th>\n",
              "      <th>Aspect</th>\n",
              "      <th>Slope</th>\n",
              "      <th>Horizontal_Distance_To_Hydrology</th>\n",
              "      <th>Vertical_Distance_To_Hydrology</th>\n",
              "      <th>Horizontal_Distance_To_Roadways</th>\n",
              "      <th>Hillshade_9am</th>\n",
              "      <th>Hillshade_Noon</th>\n",
              "      <th>Hillshade_3pm</th>\n",
              "      <th>Horizontal_Distance_To_Fire_Points</th>\n",
              "      <th>Wilderness_Area1</th>\n",
              "      <th>Wilderness_Area2</th>\n",
              "      <th>Wilderness_Area3</th>\n",
              "      <th>Wilderness_Area4</th>\n",
              "      <th>Soil_Type1</th>\n",
              "      <th>Soil_Type2</th>\n",
              "      <th>3</th>\n",
              "      <th>Soil_Type4</th>\n",
              "      <th>Soil_Type5</th>\n",
              "      <th>Soil_Type6</th>\n",
              "      <th>Soil_Type7</th>\n",
              "      <th>Soil_Type8</th>\n",
              "      <th>Soil_Type9</th>\n",
              "      <th>Soil_Type10</th>\n",
              "      <th>Soil_Type11</th>\n",
              "      <th>Soil_Type12</th>\n",
              "      <th>Soil_Type13</th>\n",
              "      <th>Soil_Type14</th>\n",
              "      <th>Soil_Type15</th>\n",
              "      <th>Soil_Type16</th>\n",
              "      <th>Soil_Type17</th>\n",
              "      <th>Soil_Type18</th>\n",
              "      <th>Soil_Type19</th>\n",
              "      <th>Soil_Type20</th>\n",
              "      <th>Soil_Type21</th>\n",
              "      <th>Soil_Type22</th>\n",
              "      <th>Soil_Type23</th>\n",
              "      <th>Soil_Type24</th>\n",
              "      <th>Soil_Type25</th>\n",
              "      <th>Soil_Type26</th>\n",
              "      <th>Soil_Type27</th>\n",
              "      <th>Soil_Type28</th>\n",
              "      <th>Soil_Type29</th>\n",
              "      <th>Soil_Type30</th>\n",
              "      <th>Soil_Type31</th>\n",
              "      <th>Soil_Type32</th>\n",
              "      <th>Soil_Type33</th>\n",
              "      <th>Soil_Type34</th>\n",
              "      <th>Soil_Type35</th>\n",
              "      <th>Soil_Type36</th>\n",
              "      <th>Soil_Type37</th>\n",
              "      <th>Soil_Type38</th>\n",
              "      <th>Soil_Type39</th>\n",
              "      <th>Soil_Type40</th>\n",
              "      <th>Cover_Type</th>\n",
              "    </tr>\n",
              "  </thead>\n",
              "  <tbody>\n",
              "    <tr>\n",
              "      <th>0</th>\n",
              "      <td>2596</td>\n",
              "      <td>51</td>\n",
              "      <td>3</td>\n",
              "      <td>258</td>\n",
              "      <td>0</td>\n",
              "      <td>510</td>\n",
              "      <td>221</td>\n",
              "      <td>232</td>\n",
              "      <td>148</td>\n",
              "      <td>6279</td>\n",
              "      <td>1</td>\n",
              "      <td>0</td>\n",
              "      <td>0</td>\n",
              "      <td>0</td>\n",
              "      <td>0</td>\n",
              "      <td>0</td>\n",
              "      <td>0</td>\n",
              "      <td>0</td>\n",
              "      <td>0</td>\n",
              "      <td>0</td>\n",
              "      <td>0</td>\n",
              "      <td>0</td>\n",
              "      <td>0</td>\n",
              "      <td>0</td>\n",
              "      <td>0</td>\n",
              "      <td>0</td>\n",
              "      <td>0</td>\n",
              "      <td>0</td>\n",
              "      <td>0</td>\n",
              "      <td>0</td>\n",
              "      <td>0</td>\n",
              "      <td>0</td>\n",
              "      <td>0</td>\n",
              "      <td>0</td>\n",
              "      <td>0</td>\n",
              "      <td>0</td>\n",
              "      <td>0</td>\n",
              "      <td>0</td>\n",
              "      <td>0</td>\n",
              "      <td>0</td>\n",
              "      <td>0</td>\n",
              "      <td>0</td>\n",
              "      <td>1</td>\n",
              "      <td>0</td>\n",
              "      <td>0</td>\n",
              "      <td>0</td>\n",
              "      <td>0</td>\n",
              "      <td>0</td>\n",
              "      <td>0</td>\n",
              "      <td>0</td>\n",
              "      <td>0</td>\n",
              "      <td>0</td>\n",
              "      <td>0</td>\n",
              "      <td>0</td>\n",
              "      <td>-1</td>\n",
              "    </tr>\n",
              "    <tr>\n",
              "      <th>1</th>\n",
              "      <td>2590</td>\n",
              "      <td>56</td>\n",
              "      <td>2</td>\n",
              "      <td>212</td>\n",
              "      <td>-6</td>\n",
              "      <td>390</td>\n",
              "      <td>220</td>\n",
              "      <td>235</td>\n",
              "      <td>151</td>\n",
              "      <td>6225</td>\n",
              "      <td>1</td>\n",
              "      <td>0</td>\n",
              "      <td>0</td>\n",
              "      <td>0</td>\n",
              "      <td>0</td>\n",
              "      <td>0</td>\n",
              "      <td>0</td>\n",
              "      <td>0</td>\n",
              "      <td>0</td>\n",
              "      <td>0</td>\n",
              "      <td>0</td>\n",
              "      <td>0</td>\n",
              "      <td>0</td>\n",
              "      <td>0</td>\n",
              "      <td>0</td>\n",
              "      <td>0</td>\n",
              "      <td>0</td>\n",
              "      <td>0</td>\n",
              "      <td>0</td>\n",
              "      <td>0</td>\n",
              "      <td>0</td>\n",
              "      <td>0</td>\n",
              "      <td>0</td>\n",
              "      <td>0</td>\n",
              "      <td>0</td>\n",
              "      <td>0</td>\n",
              "      <td>0</td>\n",
              "      <td>0</td>\n",
              "      <td>0</td>\n",
              "      <td>0</td>\n",
              "      <td>0</td>\n",
              "      <td>0</td>\n",
              "      <td>1</td>\n",
              "      <td>0</td>\n",
              "      <td>0</td>\n",
              "      <td>0</td>\n",
              "      <td>0</td>\n",
              "      <td>0</td>\n",
              "      <td>0</td>\n",
              "      <td>0</td>\n",
              "      <td>0</td>\n",
              "      <td>0</td>\n",
              "      <td>0</td>\n",
              "      <td>0</td>\n",
              "      <td>-1</td>\n",
              "    </tr>\n",
              "    <tr>\n",
              "      <th>2</th>\n",
              "      <td>2804</td>\n",
              "      <td>139</td>\n",
              "      <td>9</td>\n",
              "      <td>268</td>\n",
              "      <td>65</td>\n",
              "      <td>3180</td>\n",
              "      <td>234</td>\n",
              "      <td>238</td>\n",
              "      <td>135</td>\n",
              "      <td>6121</td>\n",
              "      <td>1</td>\n",
              "      <td>0</td>\n",
              "      <td>0</td>\n",
              "      <td>0</td>\n",
              "      <td>0</td>\n",
              "      <td>0</td>\n",
              "      <td>0</td>\n",
              "      <td>0</td>\n",
              "      <td>0</td>\n",
              "      <td>0</td>\n",
              "      <td>0</td>\n",
              "      <td>0</td>\n",
              "      <td>0</td>\n",
              "      <td>0</td>\n",
              "      <td>0</td>\n",
              "      <td>1</td>\n",
              "      <td>0</td>\n",
              "      <td>0</td>\n",
              "      <td>0</td>\n",
              "      <td>0</td>\n",
              "      <td>0</td>\n",
              "      <td>0</td>\n",
              "      <td>0</td>\n",
              "      <td>0</td>\n",
              "      <td>0</td>\n",
              "      <td>0</td>\n",
              "      <td>0</td>\n",
              "      <td>0</td>\n",
              "      <td>0</td>\n",
              "      <td>0</td>\n",
              "      <td>0</td>\n",
              "      <td>0</td>\n",
              "      <td>0</td>\n",
              "      <td>0</td>\n",
              "      <td>0</td>\n",
              "      <td>0</td>\n",
              "      <td>0</td>\n",
              "      <td>0</td>\n",
              "      <td>0</td>\n",
              "      <td>0</td>\n",
              "      <td>0</td>\n",
              "      <td>0</td>\n",
              "      <td>0</td>\n",
              "      <td>0</td>\n",
              "      <td>1</td>\n",
              "    </tr>\n",
              "    <tr>\n",
              "      <th>3</th>\n",
              "      <td>2785</td>\n",
              "      <td>155</td>\n",
              "      <td>18</td>\n",
              "      <td>242</td>\n",
              "      <td>118</td>\n",
              "      <td>3090</td>\n",
              "      <td>238</td>\n",
              "      <td>238</td>\n",
              "      <td>122</td>\n",
              "      <td>6211</td>\n",
              "      <td>1</td>\n",
              "      <td>0</td>\n",
              "      <td>0</td>\n",
              "      <td>0</td>\n",
              "      <td>0</td>\n",
              "      <td>0</td>\n",
              "      <td>0</td>\n",
              "      <td>0</td>\n",
              "      <td>0</td>\n",
              "      <td>0</td>\n",
              "      <td>0</td>\n",
              "      <td>0</td>\n",
              "      <td>0</td>\n",
              "      <td>0</td>\n",
              "      <td>0</td>\n",
              "      <td>0</td>\n",
              "      <td>0</td>\n",
              "      <td>0</td>\n",
              "      <td>0</td>\n",
              "      <td>0</td>\n",
              "      <td>0</td>\n",
              "      <td>0</td>\n",
              "      <td>0</td>\n",
              "      <td>0</td>\n",
              "      <td>0</td>\n",
              "      <td>0</td>\n",
              "      <td>0</td>\n",
              "      <td>0</td>\n",
              "      <td>0</td>\n",
              "      <td>0</td>\n",
              "      <td>0</td>\n",
              "      <td>0</td>\n",
              "      <td>0</td>\n",
              "      <td>1</td>\n",
              "      <td>0</td>\n",
              "      <td>0</td>\n",
              "      <td>0</td>\n",
              "      <td>0</td>\n",
              "      <td>0</td>\n",
              "      <td>0</td>\n",
              "      <td>0</td>\n",
              "      <td>0</td>\n",
              "      <td>0</td>\n",
              "      <td>0</td>\n",
              "      <td>1</td>\n",
              "    </tr>\n",
              "    <tr>\n",
              "      <th>4</th>\n",
              "      <td>2595</td>\n",
              "      <td>45</td>\n",
              "      <td>2</td>\n",
              "      <td>153</td>\n",
              "      <td>-1</td>\n",
              "      <td>391</td>\n",
              "      <td>220</td>\n",
              "      <td>234</td>\n",
              "      <td>150</td>\n",
              "      <td>6172</td>\n",
              "      <td>1</td>\n",
              "      <td>0</td>\n",
              "      <td>0</td>\n",
              "      <td>0</td>\n",
              "      <td>0</td>\n",
              "      <td>0</td>\n",
              "      <td>0</td>\n",
              "      <td>0</td>\n",
              "      <td>0</td>\n",
              "      <td>0</td>\n",
              "      <td>0</td>\n",
              "      <td>0</td>\n",
              "      <td>0</td>\n",
              "      <td>0</td>\n",
              "      <td>0</td>\n",
              "      <td>0</td>\n",
              "      <td>0</td>\n",
              "      <td>0</td>\n",
              "      <td>0</td>\n",
              "      <td>0</td>\n",
              "      <td>0</td>\n",
              "      <td>0</td>\n",
              "      <td>0</td>\n",
              "      <td>0</td>\n",
              "      <td>0</td>\n",
              "      <td>0</td>\n",
              "      <td>0</td>\n",
              "      <td>0</td>\n",
              "      <td>0</td>\n",
              "      <td>0</td>\n",
              "      <td>0</td>\n",
              "      <td>0</td>\n",
              "      <td>1</td>\n",
              "      <td>0</td>\n",
              "      <td>0</td>\n",
              "      <td>0</td>\n",
              "      <td>0</td>\n",
              "      <td>0</td>\n",
              "      <td>0</td>\n",
              "      <td>0</td>\n",
              "      <td>0</td>\n",
              "      <td>0</td>\n",
              "      <td>0</td>\n",
              "      <td>0</td>\n",
              "      <td>-1</td>\n",
              "    </tr>\n",
              "    <tr>\n",
              "      <th>...</th>\n",
              "      <td>...</td>\n",
              "      <td>...</td>\n",
              "      <td>...</td>\n",
              "      <td>...</td>\n",
              "      <td>...</td>\n",
              "      <td>...</td>\n",
              "      <td>...</td>\n",
              "      <td>...</td>\n",
              "      <td>...</td>\n",
              "      <td>...</td>\n",
              "      <td>...</td>\n",
              "      <td>...</td>\n",
              "      <td>...</td>\n",
              "      <td>...</td>\n",
              "      <td>...</td>\n",
              "      <td>...</td>\n",
              "      <td>...</td>\n",
              "      <td>...</td>\n",
              "      <td>...</td>\n",
              "      <td>...</td>\n",
              "      <td>...</td>\n",
              "      <td>...</td>\n",
              "      <td>...</td>\n",
              "      <td>...</td>\n",
              "      <td>...</td>\n",
              "      <td>...</td>\n",
              "      <td>...</td>\n",
              "      <td>...</td>\n",
              "      <td>...</td>\n",
              "      <td>...</td>\n",
              "      <td>...</td>\n",
              "      <td>...</td>\n",
              "      <td>...</td>\n",
              "      <td>...</td>\n",
              "      <td>...</td>\n",
              "      <td>...</td>\n",
              "      <td>...</td>\n",
              "      <td>...</td>\n",
              "      <td>...</td>\n",
              "      <td>...</td>\n",
              "      <td>...</td>\n",
              "      <td>...</td>\n",
              "      <td>...</td>\n",
              "      <td>...</td>\n",
              "      <td>...</td>\n",
              "      <td>...</td>\n",
              "      <td>...</td>\n",
              "      <td>...</td>\n",
              "      <td>...</td>\n",
              "      <td>...</td>\n",
              "      <td>...</td>\n",
              "      <td>...</td>\n",
              "      <td>...</td>\n",
              "      <td>...</td>\n",
              "      <td>...</td>\n",
              "    </tr>\n",
              "    <tr>\n",
              "      <th>581007</th>\n",
              "      <td>2396</td>\n",
              "      <td>153</td>\n",
              "      <td>20</td>\n",
              "      <td>85</td>\n",
              "      <td>17</td>\n",
              "      <td>108</td>\n",
              "      <td>240</td>\n",
              "      <td>237</td>\n",
              "      <td>118</td>\n",
              "      <td>837</td>\n",
              "      <td>0</td>\n",
              "      <td>0</td>\n",
              "      <td>1</td>\n",
              "      <td>0</td>\n",
              "      <td>0</td>\n",
              "      <td>1</td>\n",
              "      <td>0</td>\n",
              "      <td>0</td>\n",
              "      <td>0</td>\n",
              "      <td>0</td>\n",
              "      <td>0</td>\n",
              "      <td>0</td>\n",
              "      <td>0</td>\n",
              "      <td>0</td>\n",
              "      <td>0</td>\n",
              "      <td>0</td>\n",
              "      <td>0</td>\n",
              "      <td>0</td>\n",
              "      <td>0</td>\n",
              "      <td>0</td>\n",
              "      <td>0</td>\n",
              "      <td>0</td>\n",
              "      <td>0</td>\n",
              "      <td>0</td>\n",
              "      <td>0</td>\n",
              "      <td>0</td>\n",
              "      <td>0</td>\n",
              "      <td>0</td>\n",
              "      <td>0</td>\n",
              "      <td>0</td>\n",
              "      <td>0</td>\n",
              "      <td>0</td>\n",
              "      <td>0</td>\n",
              "      <td>0</td>\n",
              "      <td>0</td>\n",
              "      <td>0</td>\n",
              "      <td>0</td>\n",
              "      <td>0</td>\n",
              "      <td>0</td>\n",
              "      <td>0</td>\n",
              "      <td>0</td>\n",
              "      <td>0</td>\n",
              "      <td>0</td>\n",
              "      <td>0</td>\n",
              "      <td>-1</td>\n",
              "    </tr>\n",
              "    <tr>\n",
              "      <th>581008</th>\n",
              "      <td>2391</td>\n",
              "      <td>152</td>\n",
              "      <td>19</td>\n",
              "      <td>67</td>\n",
              "      <td>12</td>\n",
              "      <td>95</td>\n",
              "      <td>240</td>\n",
              "      <td>237</td>\n",
              "      <td>119</td>\n",
              "      <td>845</td>\n",
              "      <td>0</td>\n",
              "      <td>0</td>\n",
              "      <td>1</td>\n",
              "      <td>0</td>\n",
              "      <td>0</td>\n",
              "      <td>1</td>\n",
              "      <td>0</td>\n",
              "      <td>0</td>\n",
              "      <td>0</td>\n",
              "      <td>0</td>\n",
              "      <td>0</td>\n",
              "      <td>0</td>\n",
              "      <td>0</td>\n",
              "      <td>0</td>\n",
              "      <td>0</td>\n",
              "      <td>0</td>\n",
              "      <td>0</td>\n",
              "      <td>0</td>\n",
              "      <td>0</td>\n",
              "      <td>0</td>\n",
              "      <td>0</td>\n",
              "      <td>0</td>\n",
              "      <td>0</td>\n",
              "      <td>0</td>\n",
              "      <td>0</td>\n",
              "      <td>0</td>\n",
              "      <td>0</td>\n",
              "      <td>0</td>\n",
              "      <td>0</td>\n",
              "      <td>0</td>\n",
              "      <td>0</td>\n",
              "      <td>0</td>\n",
              "      <td>0</td>\n",
              "      <td>0</td>\n",
              "      <td>0</td>\n",
              "      <td>0</td>\n",
              "      <td>0</td>\n",
              "      <td>0</td>\n",
              "      <td>0</td>\n",
              "      <td>0</td>\n",
              "      <td>0</td>\n",
              "      <td>0</td>\n",
              "      <td>0</td>\n",
              "      <td>0</td>\n",
              "      <td>-1</td>\n",
              "    </tr>\n",
              "    <tr>\n",
              "      <th>581009</th>\n",
              "      <td>2386</td>\n",
              "      <td>159</td>\n",
              "      <td>17</td>\n",
              "      <td>60</td>\n",
              "      <td>7</td>\n",
              "      <td>90</td>\n",
              "      <td>236</td>\n",
              "      <td>241</td>\n",
              "      <td>130</td>\n",
              "      <td>854</td>\n",
              "      <td>0</td>\n",
              "      <td>0</td>\n",
              "      <td>1</td>\n",
              "      <td>0</td>\n",
              "      <td>0</td>\n",
              "      <td>1</td>\n",
              "      <td>0</td>\n",
              "      <td>0</td>\n",
              "      <td>0</td>\n",
              "      <td>0</td>\n",
              "      <td>0</td>\n",
              "      <td>0</td>\n",
              "      <td>0</td>\n",
              "      <td>0</td>\n",
              "      <td>0</td>\n",
              "      <td>0</td>\n",
              "      <td>0</td>\n",
              "      <td>0</td>\n",
              "      <td>0</td>\n",
              "      <td>0</td>\n",
              "      <td>0</td>\n",
              "      <td>0</td>\n",
              "      <td>0</td>\n",
              "      <td>0</td>\n",
              "      <td>0</td>\n",
              "      <td>0</td>\n",
              "      <td>0</td>\n",
              "      <td>0</td>\n",
              "      <td>0</td>\n",
              "      <td>0</td>\n",
              "      <td>0</td>\n",
              "      <td>0</td>\n",
              "      <td>0</td>\n",
              "      <td>0</td>\n",
              "      <td>0</td>\n",
              "      <td>0</td>\n",
              "      <td>0</td>\n",
              "      <td>0</td>\n",
              "      <td>0</td>\n",
              "      <td>0</td>\n",
              "      <td>0</td>\n",
              "      <td>0</td>\n",
              "      <td>0</td>\n",
              "      <td>0</td>\n",
              "      <td>-1</td>\n",
              "    </tr>\n",
              "    <tr>\n",
              "      <th>581010</th>\n",
              "      <td>2384</td>\n",
              "      <td>170</td>\n",
              "      <td>15</td>\n",
              "      <td>60</td>\n",
              "      <td>5</td>\n",
              "      <td>90</td>\n",
              "      <td>230</td>\n",
              "      <td>245</td>\n",
              "      <td>143</td>\n",
              "      <td>864</td>\n",
              "      <td>0</td>\n",
              "      <td>0</td>\n",
              "      <td>1</td>\n",
              "      <td>0</td>\n",
              "      <td>0</td>\n",
              "      <td>1</td>\n",
              "      <td>0</td>\n",
              "      <td>0</td>\n",
              "      <td>0</td>\n",
              "      <td>0</td>\n",
              "      <td>0</td>\n",
              "      <td>0</td>\n",
              "      <td>0</td>\n",
              "      <td>0</td>\n",
              "      <td>0</td>\n",
              "      <td>0</td>\n",
              "      <td>0</td>\n",
              "      <td>0</td>\n",
              "      <td>0</td>\n",
              "      <td>0</td>\n",
              "      <td>0</td>\n",
              "      <td>0</td>\n",
              "      <td>0</td>\n",
              "      <td>0</td>\n",
              "      <td>0</td>\n",
              "      <td>0</td>\n",
              "      <td>0</td>\n",
              "      <td>0</td>\n",
              "      <td>0</td>\n",
              "      <td>0</td>\n",
              "      <td>0</td>\n",
              "      <td>0</td>\n",
              "      <td>0</td>\n",
              "      <td>0</td>\n",
              "      <td>0</td>\n",
              "      <td>0</td>\n",
              "      <td>0</td>\n",
              "      <td>0</td>\n",
              "      <td>0</td>\n",
              "      <td>0</td>\n",
              "      <td>0</td>\n",
              "      <td>0</td>\n",
              "      <td>0</td>\n",
              "      <td>0</td>\n",
              "      <td>-1</td>\n",
              "    </tr>\n",
              "    <tr>\n",
              "      <th>581011</th>\n",
              "      <td>2383</td>\n",
              "      <td>165</td>\n",
              "      <td>13</td>\n",
              "      <td>60</td>\n",
              "      <td>4</td>\n",
              "      <td>67</td>\n",
              "      <td>231</td>\n",
              "      <td>244</td>\n",
              "      <td>141</td>\n",
              "      <td>875</td>\n",
              "      <td>0</td>\n",
              "      <td>0</td>\n",
              "      <td>1</td>\n",
              "      <td>0</td>\n",
              "      <td>0</td>\n",
              "      <td>1</td>\n",
              "      <td>0</td>\n",
              "      <td>0</td>\n",
              "      <td>0</td>\n",
              "      <td>0</td>\n",
              "      <td>0</td>\n",
              "      <td>0</td>\n",
              "      <td>0</td>\n",
              "      <td>0</td>\n",
              "      <td>0</td>\n",
              "      <td>0</td>\n",
              "      <td>0</td>\n",
              "      <td>0</td>\n",
              "      <td>0</td>\n",
              "      <td>0</td>\n",
              "      <td>0</td>\n",
              "      <td>0</td>\n",
              "      <td>0</td>\n",
              "      <td>0</td>\n",
              "      <td>0</td>\n",
              "      <td>0</td>\n",
              "      <td>0</td>\n",
              "      <td>0</td>\n",
              "      <td>0</td>\n",
              "      <td>0</td>\n",
              "      <td>0</td>\n",
              "      <td>0</td>\n",
              "      <td>0</td>\n",
              "      <td>0</td>\n",
              "      <td>0</td>\n",
              "      <td>0</td>\n",
              "      <td>0</td>\n",
              "      <td>0</td>\n",
              "      <td>0</td>\n",
              "      <td>0</td>\n",
              "      <td>0</td>\n",
              "      <td>0</td>\n",
              "      <td>0</td>\n",
              "      <td>0</td>\n",
              "      <td>-1</td>\n",
              "    </tr>\n",
              "  </tbody>\n",
              "</table>\n",
              "<p>581012 rows × 55 columns</p>\n",
              "</div>"
            ],
            "text/plain": [
              "        Elevation  Aspect  Slope  ...  Soil_Type39  Soil_Type40  Cover_Type\n",
              "0            2596      51      3  ...            0            0          -1\n",
              "1            2590      56      2  ...            0            0          -1\n",
              "2            2804     139      9  ...            0            0           1\n",
              "3            2785     155     18  ...            0            0           1\n",
              "4            2595      45      2  ...            0            0          -1\n",
              "...           ...     ...    ...  ...          ...          ...         ...\n",
              "581007       2396     153     20  ...            0            0          -1\n",
              "581008       2391     152     19  ...            0            0          -1\n",
              "581009       2386     159     17  ...            0            0          -1\n",
              "581010       2384     170     15  ...            0            0          -1\n",
              "581011       2383     165     13  ...            0            0          -1\n",
              "\n",
              "[581012 rows x 55 columns]"
            ]
          },
          "metadata": {
            "tags": []
          },
          "execution_count": 83
        }
      ]
    },
    {
      "cell_type": "markdown",
      "metadata": {
        "id": "O_1WtcBb5hwU"
      },
      "source": [
        "# Adult Set"
      ]
    },
    {
      "cell_type": "code",
      "metadata": {
        "scrolled": false,
        "colab": {
          "base_uri": "https://localhost:8080/"
        },
        "id": "4RHTacHzOXii",
        "outputId": "84f70d42-a11f-42c4-a1e7-f8ae9c8d67da"
      },
      "source": [
        "NUM_TRIALS = 4\n",
        "\n",
        "#loop for each of the 3 trials\n",
        "for x in range(NUM_TRIALS):\n",
        "    #randomly select 5000 samples as training set; reserve rest for testing \n",
        "    X_p = df.iloc[:,:-2]\n",
        "    y_p = df.iloc[:,-2]\n",
        "    X_train, X_test, y_train, y_test = train_test_split(X_p, y_p,\n",
        "                                                        train_size=5000,\n",
        "                                                    random_state=12345)\n",
        "    \n",
        "    # Initializing Classifiers (knn, logistic regression, decision trees) \n",
        "    lr_classifier = LogisticRegression()\n",
        "    knn_classifier = KNeighborsClassifier()\n",
        "    dt_classifier = tree.DecisionTreeClassifier()\n",
        "\n",
        "    # Building the pipelines\n",
        "    knn_pipe = Pipeline([('std', StandardScaler()),\n",
        "                      ('classifier', knn_classifier)])\n",
        "        \n",
        "    lr_pipe = Pipeline([('std', StandardScaler()),\n",
        "                      ('classifier', lr_classifier)])\n",
        "\n",
        "    dt_pipe = Pipeline([('std', StandardScaler()),\n",
        "                      ('classifier', dt_classifier)])\n",
        "\n",
        "\n",
        "    #parameters for LR \n",
        "    MAX_ITER = 4000 \n",
        "    reg_params = np.power(10., np.arange(-8,4)) #param for regularization\n",
        "\n",
        "    #parameters for KNN \n",
        "    weights = ['uniform', 'distance']\n",
        "    k_values = [n*15 for n in range(1,21)] \n",
        "\n",
        "    #parameters for DT\n",
        "    max_depth = np.array([1,2,3,4,5,6,7,8,9,10])\n",
        "\n",
        "\n",
        "    # Setting up the parameter grids\n",
        "    lr_param_grid = [{'classifier__penalty': ['11','l2'],\n",
        "                    'classifier__C': reg_params}]\n",
        "\n",
        "    knn_param_grid = [{'classifier__weights': weights,\n",
        "                    'classifier__n_neighbors': k_values}]\n",
        "\n",
        "    dt_param_grid = [{'classifier__max_depth':max_depth}]\n",
        "\n",
        "\n",
        "    #scoring metrics\n",
        "    scoring_metrics = ['accuracy', 'precision', 'recall', 'f1']\n",
        "\n",
        "    #perform 5-fold cross validation on training set      \n",
        "    # Setting up multiple GridSearchCV objects, 1 for each algorithm\n",
        "    gridcvs = {}\n",
        "\n",
        "    for pgrid, est, name in zip((lr_param_grid, knn_param_grid,dt_param_grid),\n",
        "                                (lr_pipe, knn_pipe, dt_pipe),\n",
        "                                ('Logistic_Reg', 'KNN', 'Decision_Tree')):\n",
        "        gcv = GridSearchCV(estimator=est,\n",
        "                           param_grid=pgrid,\n",
        "                           scoring=scoring_metrics,\n",
        "                           n_jobs=3,\n",
        "                           cv=5, # just 2-fold inner loop, i.e. train/test\n",
        "                           verbose=0,\n",
        "                           return_train_score=True,\n",
        "                           refit='accuracy')\n",
        "        gridcvs[name] = gcv\n",
        "        \n",
        "    cv_scores = {name: [] for name, gs_est in gridcvs.items()}\n",
        "    skfold = StratifiedKFold(n_splits=5, shuffle=True, random_state=1)\n",
        "\n",
        "    # The outer loop for algorithm selection\n",
        "    c = 1\n",
        "    for outer_train_idx, outer_valid_idx in skfold.split(X_train,y_train):\n",
        "        for name, gs_est in sorted(gridcvs.items()):\n",
        "            print('outer fold %d/5 | tuning %-8s' % (c, name), end='')\n",
        "\n",
        "            # The inner loop for hyperparameter tuning\n",
        "            gs_est.fit(X_train.iloc[outer_train_idx], y_train.iloc[outer_train_idx])\n",
        "            y_pred = gs_est.predict(X_train.iloc[outer_valid_idx])\n",
        "            acc = accuracy_score(y_true=y_train.iloc[outer_valid_idx], y_pred=y_pred)\n",
        "            print(' | inner ACC %.2f%% | outer ACC %.2f%%' %\n",
        "                  (gs_est.best_score_ * 100, acc * 100))\n",
        "            cv_scores[name].append(acc)\n",
        "\n",
        "        c += 1\n",
        "\n",
        "    #find best classifier by looking at results\n",
        "    for name in cv_scores:\n",
        "        print('%-8s | outer CV acc. %.2f%% +\\- %.3f' % (\n",
        "              name, 100 * np.mean(cv_scores[name]), 100 * np.std(cv_scores[name])))\n",
        "    print()\n",
        "    for name in cv_scores:\n",
        "        print('{} best parameters'.format(name), gridcvs[name].best_params_)\n",
        "    \n",
        "    best_params = gridcvs[name].best_estimator_.fit(X_train, y_train)"
      ],
      "execution_count": null,
      "outputs": [
        {
          "output_type": "stream",
          "text": [
            "outer fold 1/5 | tuning Decision_Tree | inner ACC 84.22% | outer ACC 85.30%\n",
            "outer fold 1/5 | tuning KNN      | inner ACC 83.67% | outer ACC 83.80%\n",
            "outer fold 1/5 | tuning Logistic_Reg | inner ACC 84.60% | outer ACC 84.40%\n",
            "outer fold 2/5 | tuning Decision_Tree | inner ACC 83.95% | outer ACC 84.80%\n",
            "outer fold 2/5 | tuning KNN      | inner ACC 83.67% | outer ACC 81.90%\n",
            "outer fold 2/5 | tuning Logistic_Reg | inner ACC 84.95% | outer ACC 84.60%\n",
            "outer fold 3/5 | tuning Decision_Tree | inner ACC 84.28% | outer ACC 84.50%\n",
            "outer fold 3/5 | tuning KNN      | inner ACC 82.93% | outer ACC 84.10%\n",
            "outer fold 3/5 | tuning Logistic_Reg | inner ACC 85.00% | outer ACC 84.20%\n",
            "outer fold 4/5 | tuning Decision_Tree | inner ACC 84.70% | outer ACC 81.50%\n",
            "outer fold 4/5 | tuning KNN      | inner ACC 83.52% | outer ACC 82.80%\n",
            "outer fold 4/5 | tuning Logistic_Reg | inner ACC 84.85% | outer ACC 84.50%\n",
            "outer fold 5/5 | tuning Decision_Tree | inner ACC 83.98% | outer ACC 84.70%\n",
            "outer fold 5/5 | tuning KNN      | inner ACC 83.83% | outer ACC 82.70%\n",
            "outer fold 5/5 | tuning Logistic_Reg | inner ACC 84.90% | outer ACC 84.80%\n",
            "Logistic_Reg | outer CV acc. 84.50% +\\- 0.200\n",
            "KNN      | outer CV acc. 83.06% +\\- 0.796\n",
            "Decision_Tree | outer CV acc. 84.16% +\\- 1.356\n",
            "\n",
            "Logistic_Reg best parameters {'classifier__C': 0.1, 'classifier__penalty': 'l2'}\n",
            "KNN best parameters {'classifier__n_neighbors': 90, 'classifier__weights': 'distance'}\n",
            "Decision_Tree best parameters {'classifier__max_depth': 3}\n",
            "outer fold 1/5 | tuning Decision_Tree | inner ACC 84.22% | outer ACC 85.30%\n",
            "outer fold 1/5 | tuning KNN      | inner ACC 83.67% | outer ACC 83.80%\n",
            "outer fold 1/5 | tuning Logistic_Reg | inner ACC 84.60% | outer ACC 84.40%\n",
            "outer fold 2/5 | tuning Decision_Tree | inner ACC 83.95% | outer ACC 84.80%\n",
            "outer fold 2/5 | tuning KNN      | inner ACC 83.67% | outer ACC 81.90%\n",
            "outer fold 2/5 | tuning Logistic_Reg | inner ACC 84.95% | outer ACC 84.60%\n",
            "outer fold 3/5 | tuning Decision_Tree | inner ACC 84.28% | outer ACC 84.80%\n",
            "outer fold 3/5 | tuning KNN      | inner ACC 82.93% | outer ACC 84.10%\n",
            "outer fold 3/5 | tuning Logistic_Reg | inner ACC 85.00% | outer ACC 84.20%\n",
            "outer fold 4/5 | tuning Decision_Tree | inner ACC 84.70% | outer ACC 81.40%\n",
            "outer fold 4/5 | tuning KNN      | inner ACC 83.52% | outer ACC 82.80%\n",
            "outer fold 4/5 | tuning Logistic_Reg | inner ACC 84.85% | outer ACC 84.50%\n",
            "outer fold 5/5 | tuning Decision_Tree | inner ACC 83.98% | outer ACC 84.70%\n",
            "outer fold 5/5 | tuning KNN      | inner ACC 83.83% | outer ACC 82.70%\n",
            "outer fold 5/5 | tuning Logistic_Reg | inner ACC 84.90% | outer ACC 84.80%\n",
            "Logistic_Reg | outer CV acc. 84.50% +\\- 0.200\n",
            "KNN      | outer CV acc. 83.06% +\\- 0.796\n",
            "Decision_Tree | outer CV acc. 84.20% +\\- 1.416\n",
            "\n",
            "Logistic_Reg best parameters {'classifier__C': 0.1, 'classifier__penalty': 'l2'}\n",
            "KNN best parameters {'classifier__n_neighbors': 90, 'classifier__weights': 'distance'}\n",
            "Decision_Tree best parameters {'classifier__max_depth': 3}\n",
            "outer fold 1/5 | tuning Decision_Tree | inner ACC 84.25% | outer ACC 85.30%\n",
            "outer fold 1/5 | tuning KNN      | inner ACC 83.67% | outer ACC 83.80%\n",
            "outer fold 1/5 | tuning Logistic_Reg | inner ACC 84.60% | outer ACC 84.40%\n",
            "outer fold 2/5 | tuning Decision_Tree | inner ACC 83.95% | outer ACC 84.80%\n",
            "outer fold 2/5 | tuning KNN      | inner ACC 83.67% | outer ACC 81.90%\n",
            "outer fold 2/5 | tuning Logistic_Reg | inner ACC 84.95% | outer ACC 84.60%\n",
            "outer fold 3/5 | tuning Decision_Tree | inner ACC 84.20% | outer ACC 84.80%\n",
            "outer fold 3/5 | tuning KNN      | inner ACC 82.93% | outer ACC 84.10%\n",
            "outer fold 3/5 | tuning Logistic_Reg | inner ACC 85.00% | outer ACC 84.20%\n",
            "outer fold 4/5 | tuning Decision_Tree | inner ACC 84.62% | outer ACC 81.40%\n",
            "outer fold 4/5 | tuning KNN      | inner ACC 83.52% | outer ACC 82.80%\n",
            "outer fold 4/5 | tuning Logistic_Reg | inner ACC 84.85% | outer ACC 84.50%\n",
            "outer fold 5/5 | tuning Decision_Tree | inner ACC 83.98% | outer ACC 84.70%\n",
            "outer fold 5/5 | tuning KNN      | inner ACC 83.83% | outer ACC 82.70%\n",
            "outer fold 5/5 | tuning Logistic_Reg | inner ACC 84.90% | outer ACC 84.80%\n",
            "Logistic_Reg | outer CV acc. 84.50% +\\- 0.200\n",
            "KNN      | outer CV acc. 83.06% +\\- 0.796\n",
            "Decision_Tree | outer CV acc. 84.20% +\\- 1.416\n",
            "\n",
            "Logistic_Reg best parameters {'classifier__C': 0.1, 'classifier__penalty': 'l2'}\n",
            "KNN best parameters {'classifier__n_neighbors': 90, 'classifier__weights': 'distance'}\n",
            "Decision_Tree best parameters {'classifier__max_depth': 3}\n",
            "outer fold 1/5 | tuning Decision_Tree | inner ACC 84.22% | outer ACC 85.30%\n",
            "outer fold 1/5 | tuning KNN      | inner ACC 83.67% | outer ACC 83.80%\n",
            "outer fold 1/5 | tuning Logistic_Reg | inner ACC 84.60% | outer ACC 84.40%\n",
            "outer fold 2/5 | tuning Decision_Tree | inner ACC 83.95% | outer ACC 84.80%\n",
            "outer fold 2/5 | tuning KNN      | inner ACC 83.67% | outer ACC 81.90%\n",
            "outer fold 2/5 | tuning Logistic_Reg | inner ACC 84.95% | outer ACC 84.60%\n",
            "outer fold 3/5 | tuning Decision_Tree | inner ACC 84.20% | outer ACC 84.50%\n",
            "outer fold 3/5 | tuning KNN      | inner ACC 82.93% | outer ACC 84.10%\n",
            "outer fold 3/5 | tuning Logistic_Reg | inner ACC 85.00% | outer ACC 84.20%\n",
            "outer fold 4/5 | tuning Decision_Tree | inner ACC 84.70% | outer ACC 81.40%\n",
            "outer fold 4/5 | tuning KNN      | inner ACC 83.52% | outer ACC 82.80%\n",
            "outer fold 4/5 | tuning Logistic_Reg | inner ACC 84.85% | outer ACC 84.50%\n",
            "outer fold 5/5 | tuning Decision_Tree | inner ACC 83.98% | outer ACC 84.70%\n",
            "outer fold 5/5 | tuning KNN      | inner ACC 83.83% | outer ACC 82.70%\n",
            "outer fold 5/5 | tuning Logistic_Reg | inner ACC 84.90% | outer ACC 84.80%\n",
            "Logistic_Reg | outer CV acc. 84.50% +\\- 0.200\n",
            "KNN      | outer CV acc. 83.06% +\\- 0.796\n",
            "Decision_Tree | outer CV acc. 84.14% +\\- 1.395\n",
            "\n",
            "Logistic_Reg best parameters {'classifier__C': 0.1, 'classifier__penalty': 'l2'}\n",
            "KNN best parameters {'classifier__n_neighbors': 90, 'classifier__weights': 'distance'}\n",
            "Decision_Tree best parameters {'classifier__max_depth': 3}\n"
          ],
          "name": "stdout"
        }
      ]
    },
    {
      "cell_type": "code",
      "metadata": {
        "colab": {
          "base_uri": "https://localhost:8080/"
        },
        "id": "ME4ZJkK6OXik",
        "outputId": "39a9a0e6-b557-4d58-94d6-9eb13f3f54cd"
      },
      "source": [
        "#with best classifier, train on all training data \n",
        "# Fitting a model to the whole training using the \"best\" algorithm\n",
        "best_algo = gridcvs['KNN']\n",
        "best_algo.fit(X_train, y_train)\n",
        "\n",
        "train_acc = accuracy_score(y_true=y_train, y_pred=best_algo.predict(X_train))\n",
        "test_acc = accuracy_score(y_true=y_test, y_pred=best_algo.predict(X_test))\n",
        "\n",
        "\n",
        "#get test set error of this classifier    \n",
        "print('Accuracy %.2f%% (average over CV test folds)' %\n",
        "      (100 * best_algo.best_score_))\n",
        "print('Best Parameters: %s' % gridcvs['KNN'].best_params_)\n",
        "print('Training Accuracy: %.2f%%' % (100 * train_acc))\n",
        "print('Test Accuracy: %.2f%%' % (100 * test_acc))\n",
        "\n",
        "train_scores = {}\n",
        "test_scores = {}\n",
        "\n",
        "train_scores['KNN Train Score'] = train_acc\n",
        "test_scores['KNN Test Score'] = test_acc"
      ],
      "execution_count": null,
      "outputs": [
        {
          "output_type": "stream",
          "text": [
            "Accuracy 83.56% (average over CV test folds)\n",
            "Best Parameters: {'classifier__n_neighbors': 120, 'classifier__weights': 'distance'}\n",
            "Training Accuracy: 100.00%\n",
            "Test Accuracy: 83.15%\n"
          ],
          "name": "stdout"
        }
      ]
    },
    {
      "cell_type": "code",
      "metadata": {
        "colab": {
          "base_uri": "https://localhost:8080/"
        },
        "id": "WD-p175AOXin",
        "outputId": "a262557f-9690-4321-8f9b-9ee38fbe9acc"
      },
      "source": [
        "#with best classifier, train on all training data \n",
        "# Fitting a model to the whole training using the \"best\" algorithm\n",
        "best_algo = gridcvs['Logistic_Reg']\n",
        "best_algo.fit(X_train, y_train)\n",
        "\n",
        "train_acc = accuracy_score(y_true=y_train, y_pred=best_algo.predict(X_train))\n",
        "test_acc = accuracy_score(y_true=y_test, y_pred=best_algo.predict(X_test))\n",
        "\n",
        "\n",
        "#get test set error of this classifier    \n",
        "print('Accuracy %.2f%% (average over CV test folds)' %\n",
        "      (100 * best_algo.best_score_))\n",
        "print('Best Parameters: %s' % gridcvs['Logistic_Reg'].best_params_)\n",
        "print('Training Accuracy: %.2f%%' % (100 * train_acc))\n",
        "print('Test Accuracy: %.2f%%' % (100 * test_acc))\n",
        "\n",
        "train_scores = {}\n",
        "test_scores = {}\n",
        "\n",
        "train_scores['Logistic_Reg Train Score'] = train_acc\n",
        "test_scores['Logistic_Reg Test Score'] = test_acc"
      ],
      "execution_count": null,
      "outputs": [
        {
          "output_type": "stream",
          "text": [
            "Accuracy 84.80% (average over CV test folds)\n",
            "Best Parameters: {'classifier__C': 0.1, 'classifier__penalty': 'l2'}\n",
            "Training Accuracy: 85.50%\n",
            "Test Accuracy: 84.72%\n"
          ],
          "name": "stdout"
        }
      ]
    },
    {
      "cell_type": "code",
      "metadata": {
        "colab": {
          "base_uri": "https://localhost:8080/"
        },
        "id": "ZW8UML4MOXip",
        "outputId": "6b4044b4-4f71-4752-c0d7-81dcc76798e8"
      },
      "source": [
        "#with best classifier, train on all training data \n",
        "# Fitting a model to the whole training using the \"best\" algorithm\n",
        "best_algo = gridcvs['Decision_Tree']\n",
        "best_algo.fit(X_train, y_train)\n",
        "\n",
        "train_acc = accuracy_score(y_true=y_train, y_pred=best_algo.predict(X_train))\n",
        "test_acc = accuracy_score(y_true=y_test, y_pred=best_algo.predict(X_test))\n",
        "\n",
        "\n",
        "#get test set error of this classifier    \n",
        "print('Accuracy %.2f%% (average over CV test folds)' %\n",
        "      (100 * best_algo.best_score_))\n",
        "print('Best Parameters: %s' % gridcvs['Decision_Tree'].best_params_)\n",
        "print('Training Accuracy: %.2f%%' % (100 * train_acc))\n",
        "print('Test Accuracy: %.2f%%' % (100 * test_acc))\n",
        "# arrays for test scores\n",
        "train_scores = {}\n",
        "test_scores = {}\n",
        "\n",
        "train_scores['Decision_Tree Train Score'] = train_acc\n",
        "test_scores['Decision_Tree Test Score'] = test_acc"
      ],
      "execution_count": null,
      "outputs": [
        {
          "output_type": "stream",
          "text": [
            "Accuracy 84.30% (average over CV test folds)\n",
            "Best Parameters: {'classifier__max_depth': 6}\n",
            "Training Accuracy: 85.46%\n",
            "Test Accuracy: 83.71%\n"
          ],
          "name": "stdout"
        }
      ]
    },
    {
      "cell_type": "markdown",
      "metadata": {
        "id": "NE5vKHa-5nWa"
      },
      "source": [
        "# Letter Set"
      ]
    },
    {
      "cell_type": "code",
      "metadata": {
        "colab": {
          "base_uri": "https://localhost:8080/"
        },
        "id": "MZyZKb8V5qAZ",
        "outputId": "702153ab-1e6f-4aba-e00f-89d4c6507981"
      },
      "source": [
        "NUM_TRIALS = 3\n",
        "\n",
        "#loop for each of the 3 trials\n",
        "for x in range(NUM_TRIALS):\n",
        "    #randomly select 5000 samples as training set; set aside rest for testing  \n",
        "    X_p = df2.iloc[:,2:]\n",
        "    y_p = df2.iloc[:,1]\n",
        "    X_train, X_test, y_train, y_test = train_test_split(X_p, y_p,\n",
        "                                                        train_size=5000,\n",
        "                                                    random_state=12345)\n",
        "\n",
        "    # Initializing Classifiers (logistic regression, knn, random forests & decision trees) \n",
        "    lr_classifier = LogisticRegression(max_iter=4000)\n",
        "    knn_classifier = KNeighborsClassifier()\n",
        "    dt_classifier = tree.DecisionTreeClassifier()\n",
        "\n",
        "    # Building the pipelines\n",
        "    lr_pipe = Pipeline([('std', StandardScaler()),\n",
        "                      ('classifier', lr_classifier)])\n",
        "\n",
        "    knn_pipe = Pipeline([('std', StandardScaler()),\n",
        "                      ('classifier', knn_classifier)])\n",
        "\n",
        "    dt_pipe = Pipeline([('std', StandardScaler()),\n",
        "                      ('classifier', dt_classifier)])\n",
        "\n",
        "\n",
        "    #parameters for LR \n",
        "    MAX_ITER = 4000 \n",
        "    reg_params = np.power(10., np.arange(-8,4)) #param for regularization\n",
        "\n",
        "    #parameters for KNN \n",
        "    weights = ['uniform', 'distance']\n",
        "    k_values = [n*15 for n in range(1,21)] \n",
        "\n",
        "    #parameters for DT\n",
        "    max_depth = np.array([1,2,3,4,5,6,7,8,9,10])\n",
        "\n",
        "\n",
        "    # Setting up the parameter grids\n",
        "    lr_param_grid = [{'classifier__penalty': ['11','l2'],\n",
        "                    'classifier__C': reg_params}]\n",
        "\n",
        "    knn_param_grid = [{'classifier__weights': weights,\n",
        "                    'classifier__n_neighbors': k_values}]\n",
        "\n",
        "    dt_param_grid = [{'classifier__max_depth':max_depth}]\n",
        "\n",
        "\n",
        "    #scoring metrics\n",
        "    scoring_metrics = ['accuracy']\n",
        "\n",
        "    #perform 5-fold cross validation on training set      \n",
        "    # Setting up multiple GridSearchCV objects, 1 for each algorithm\n",
        "    gridcvs = {}\n",
        "\n",
        "    for pgrid, est, name in zip((lr_param_grid, knn_param_grid,dt_param_grid),\n",
        "                                (lr_pipe, knn_pipe, dt_pipe),\n",
        "                                ('Logistic_Reg', 'KNN', 'Decision_Tree')):\n",
        "        gcv = GridSearchCV(estimator=est,\n",
        "                           param_grid=pgrid,\n",
        "                           scoring=scoring_metrics,\n",
        "                           n_jobs=3,\n",
        "                           cv=5, # just 2-fold inner loop, i.e. train/test\n",
        "                           verbose=0,\n",
        "                           return_train_score=True,\n",
        "                           refit='accuracy')\n",
        "        gridcvs[name] = gcv\n",
        "\n",
        "    cv_scores = {name: [] for name, gs_est in gridcvs.items()}\n",
        "    skfold = StratifiedKFold(n_splits=5, shuffle=True, random_state=1)\n",
        "\n",
        "    # The outer loop for algorithm selection\n",
        "    c = 1\n",
        "    for outer_train_idx, outer_valid_idx in skfold.split(X_train,y_train):\n",
        "        for name, gs_est in sorted(gridcvs.items()):\n",
        "            print('outer fold %d/5 | tuning %-8s' % (c, name), end='')\n",
        "\n",
        "            # The inner loop for hyperparameter tuning\n",
        "            gs_est.fit(X_train.iloc[outer_train_idx], y_train.iloc[outer_train_idx])\n",
        "            y_pred = gs_est.predict(X_train.iloc[outer_valid_idx])\n",
        "            acc = accuracy_score(y_true=y_train.iloc[outer_valid_idx], y_pred=y_pred)\n",
        "            print(' | inner ACC %.2f%% | outer ACC %.2f%%' %\n",
        "                  (gs_est.best_score_ * 100, acc * 100))\n",
        "            cv_scores[name].append(acc)\n",
        "\n",
        "        c += 1\n",
        "\n",
        "    #find best classifier by looking at results\n",
        "    for name in cv_scores:\n",
        "        print('%-8s | outer CV acc. %.2f%% +\\- %.3f' % (\n",
        "              name, 100 * np.mean(cv_scores[name]), 100 * np.std(cv_scores[name])))\n",
        "    print()\n",
        "    for name in cv_scores:\n",
        "        print('{} best parameters'.format(name), gridcvs[name].best_params_)\n",
        "    \n",
        "    best_params = gridcvs[name].best_estimator_.fit(X_train, y_train)"
      ],
      "execution_count": null,
      "outputs": [
        {
          "output_type": "stream",
          "text": [
            "outer fold 1/5 | tuning Decision_Tree | inner ACC 65.33% | outer ACC 65.30%\n",
            "outer fold 1/5 | tuning KNN      | inner ACC 52.65% | outer ACC 56.50%\n",
            "outer fold 1/5 | tuning Logistic_Reg | inner ACC 61.67% | outer ACC 61.00%\n",
            "outer fold 2/5 | tuning Decision_Tree | inner ACC 65.45% | outer ACC 65.80%\n",
            "outer fold 2/5 | tuning KNN      | inner ACC 53.90% | outer ACC 55.80%\n",
            "outer fold 2/5 | tuning Logistic_Reg | inner ACC 61.22% | outer ACC 59.30%\n",
            "outer fold 3/5 | tuning Decision_Tree | inner ACC 64.85% | outer ACC 63.70%\n",
            "outer fold 3/5 | tuning KNN      | inner ACC 54.07% | outer ACC 54.10%\n",
            "outer fold 3/5 | tuning Logistic_Reg | inner ACC 60.82% | outer ACC 62.50%\n",
            "outer fold 4/5 | tuning Decision_Tree | inner ACC 64.35% | outer ACC 64.30%\n",
            "outer fold 4/5 | tuning KNN      | inner ACC 53.50% | outer ACC 53.80%\n",
            "outer fold 4/5 | tuning Logistic_Reg | inner ACC 61.07% | outer ACC 60.30%\n",
            "outer fold 5/5 | tuning Decision_Tree"
          ],
          "name": "stdout"
        },
        {
          "output_type": "stream",
          "text": [
            "/usr/local/lib/python3.6/dist-packages/sklearn/model_selection/_split.py:667: UserWarning: The least populated class in y has only 4 members, which is less than n_splits=5.\n",
            "  % (min_groups, self.n_splits)), UserWarning)\n"
          ],
          "name": "stderr"
        },
        {
          "output_type": "stream",
          "text": [
            " | inner ACC 64.40% | outer ACC 64.80%\n",
            "outer fold 5/5 | tuning KNN     "
          ],
          "name": "stdout"
        },
        {
          "output_type": "stream",
          "text": [
            "/usr/local/lib/python3.6/dist-packages/sklearn/model_selection/_split.py:667: UserWarning: The least populated class in y has only 4 members, which is less than n_splits=5.\n",
            "  % (min_groups, self.n_splits)), UserWarning)\n"
          ],
          "name": "stderr"
        },
        {
          "output_type": "stream",
          "text": [
            " | inner ACC 52.38% | outer ACC 56.40%\n",
            "outer fold 5/5 | tuning Logistic_Reg"
          ],
          "name": "stdout"
        },
        {
          "output_type": "stream",
          "text": [
            "/usr/local/lib/python3.6/dist-packages/sklearn/model_selection/_split.py:667: UserWarning: The least populated class in y has only 4 members, which is less than n_splits=5.\n",
            "  % (min_groups, self.n_splits)), UserWarning)\n"
          ],
          "name": "stderr"
        },
        {
          "output_type": "stream",
          "text": [
            " | inner ACC 60.65% | outer ACC 63.10%\n",
            "Logistic_Reg | outer CV acc. 61.24% +\\- 1.397\n",
            "KNN      | outer CV acc. 55.32% +\\- 1.148\n",
            "Decision_Tree | outer CV acc. 64.78% +\\- 0.736\n",
            "\n",
            "Logistic_Reg best parameters {'classifier__C': 100.0, 'classifier__penalty': 'l2'}\n",
            "KNN best parameters {'classifier__n_neighbors': 15, 'classifier__weights': 'distance'}\n",
            "Decision_Tree best parameters {'classifier__max_depth': 8}\n",
            "outer fold 1/5 | tuning Decision_Tree | inner ACC 65.18% | outer ACC 64.90%\n",
            "outer fold 1/5 | tuning KNN      | inner ACC 52.65% | outer ACC 56.50%\n",
            "outer fold 1/5 | tuning Logistic_Reg | inner ACC 61.67% | outer ACC 61.00%\n",
            "outer fold 2/5 | tuning Decision_Tree | inner ACC 65.95% | outer ACC 65.30%\n",
            "outer fold 2/5 | tuning KNN      | inner ACC 53.90% | outer ACC 55.80%\n",
            "outer fold 2/5 | tuning Logistic_Reg | inner ACC 61.22% | outer ACC 59.30%\n",
            "outer fold 3/5 | tuning Decision_Tree | inner ACC 64.92% | outer ACC 63.90%\n",
            "outer fold 3/5 | tuning KNN      | inner ACC 54.07% | outer ACC 54.10%\n",
            "outer fold 3/5 | tuning Logistic_Reg | inner ACC 60.82% | outer ACC 62.50%\n",
            "outer fold 4/5 | tuning Decision_Tree | inner ACC 64.40% | outer ACC 64.20%\n",
            "outer fold 4/5 | tuning KNN      | inner ACC 53.50% | outer ACC 53.80%\n",
            "outer fold 4/5 | tuning Logistic_Reg | inner ACC 61.07% | outer ACC 60.30%\n",
            "outer fold 5/5 | tuning Decision_Tree"
          ],
          "name": "stdout"
        },
        {
          "output_type": "stream",
          "text": [
            "/usr/local/lib/python3.6/dist-packages/sklearn/model_selection/_split.py:667: UserWarning: The least populated class in y has only 4 members, which is less than n_splits=5.\n",
            "  % (min_groups, self.n_splits)), UserWarning)\n"
          ],
          "name": "stderr"
        },
        {
          "output_type": "stream",
          "text": [
            " | inner ACC 64.70% | outer ACC 65.20%\n",
            "outer fold 5/5 | tuning KNN     "
          ],
          "name": "stdout"
        },
        {
          "output_type": "stream",
          "text": [
            "/usr/local/lib/python3.6/dist-packages/sklearn/model_selection/_split.py:667: UserWarning: The least populated class in y has only 4 members, which is less than n_splits=5.\n",
            "  % (min_groups, self.n_splits)), UserWarning)\n"
          ],
          "name": "stderr"
        },
        {
          "output_type": "stream",
          "text": [
            " | inner ACC 52.38% | outer ACC 56.40%\n",
            "outer fold 5/5 | tuning Logistic_Reg"
          ],
          "name": "stdout"
        },
        {
          "output_type": "stream",
          "text": [
            "/usr/local/lib/python3.6/dist-packages/sklearn/model_selection/_split.py:667: UserWarning: The least populated class in y has only 4 members, which is less than n_splits=5.\n",
            "  % (min_groups, self.n_splits)), UserWarning)\n"
          ],
          "name": "stderr"
        },
        {
          "output_type": "stream",
          "text": [
            " | inner ACC 60.65% | outer ACC 63.10%\n",
            "Logistic_Reg | outer CV acc. 61.24% +\\- 1.397\n",
            "KNN      | outer CV acc. 55.32% +\\- 1.148\n",
            "Decision_Tree | outer CV acc. 64.70% +\\- 0.555\n",
            "\n",
            "Logistic_Reg best parameters {'classifier__C': 100.0, 'classifier__penalty': 'l2'}\n",
            "KNN best parameters {'classifier__n_neighbors': 15, 'classifier__weights': 'distance'}\n",
            "Decision_Tree best parameters {'classifier__max_depth': 10}\n",
            "outer fold 1/5 | tuning Decision_Tree | inner ACC 65.60% | outer ACC 64.40%\n",
            "outer fold 1/5 | tuning KNN      | inner ACC 52.65% | outer ACC 56.50%\n",
            "outer fold 1/5 | tuning Logistic_Reg | inner ACC 61.67% | outer ACC 61.00%\n",
            "outer fold 2/5 | tuning Decision_Tree | inner ACC 65.92% | outer ACC 66.30%\n",
            "outer fold 2/5 | tuning KNN      | inner ACC 53.90% | outer ACC 55.80%\n",
            "outer fold 2/5 | tuning Logistic_Reg | inner ACC 61.22% | outer ACC 59.30%\n",
            "outer fold 3/5 | tuning Decision_Tree | inner ACC 65.12% | outer ACC 63.60%\n",
            "outer fold 3/5 | tuning KNN      | inner ACC 54.07% | outer ACC 54.10%\n",
            "outer fold 3/5 | tuning Logistic_Reg | inner ACC 60.82% | outer ACC 62.50%\n",
            "outer fold 4/5 | tuning Decision_Tree | inner ACC 64.38% | outer ACC 64.30%\n",
            "outer fold 4/5 | tuning KNN      | inner ACC 53.50% | outer ACC 53.80%\n",
            "outer fold 4/5 | tuning Logistic_Reg | inner ACC 61.07% | outer ACC 60.30%\n",
            "outer fold 5/5 | tuning Decision_Tree"
          ],
          "name": "stdout"
        },
        {
          "output_type": "stream",
          "text": [
            "/usr/local/lib/python3.6/dist-packages/sklearn/model_selection/_split.py:667: UserWarning: The least populated class in y has only 4 members, which is less than n_splits=5.\n",
            "  % (min_groups, self.n_splits)), UserWarning)\n"
          ],
          "name": "stderr"
        },
        {
          "output_type": "stream",
          "text": [
            " | inner ACC 64.58% | outer ACC 64.90%\n",
            "outer fold 5/5 | tuning KNN     "
          ],
          "name": "stdout"
        },
        {
          "output_type": "stream",
          "text": [
            "/usr/local/lib/python3.6/dist-packages/sklearn/model_selection/_split.py:667: UserWarning: The least populated class in y has only 4 members, which is less than n_splits=5.\n",
            "  % (min_groups, self.n_splits)), UserWarning)\n"
          ],
          "name": "stderr"
        },
        {
          "output_type": "stream",
          "text": [
            " | inner ACC 52.38% | outer ACC 56.40%\n",
            "outer fold 5/5 | tuning Logistic_Reg"
          ],
          "name": "stdout"
        },
        {
          "output_type": "stream",
          "text": [
            "/usr/local/lib/python3.6/dist-packages/sklearn/model_selection/_split.py:667: UserWarning: The least populated class in y has only 4 members, which is less than n_splits=5.\n",
            "  % (min_groups, self.n_splits)), UserWarning)\n"
          ],
          "name": "stderr"
        },
        {
          "output_type": "stream",
          "text": [
            " | inner ACC 60.65% | outer ACC 63.10%\n",
            "Logistic_Reg | outer CV acc. 61.24% +\\- 1.397\n",
            "KNN      | outer CV acc. 55.32% +\\- 1.148\n",
            "Decision_Tree | outer CV acc. 64.70% +\\- 0.901\n",
            "\n",
            "Logistic_Reg best parameters {'classifier__C': 100.0, 'classifier__penalty': 'l2'}\n",
            "KNN best parameters {'classifier__n_neighbors': 15, 'classifier__weights': 'distance'}\n",
            "Decision_Tree best parameters {'classifier__max_depth': 9}\n"
          ],
          "name": "stdout"
        }
      ]
    },
    {
      "cell_type": "code",
      "metadata": {
        "colab": {
          "base_uri": "https://localhost:8080/"
        },
        "id": "E6FCK22MTxOh",
        "outputId": "73cde151-3eb7-439e-af82-408d3ef57ec8"
      },
      "source": [
        "#with best classifier, train on all training data \n",
        "# Fitting a model to the whole training using the \"best\" algorithm\n",
        "best_algo = gridcvs['KNN']\n",
        "best_algo.fit(X_train, y_train)\n",
        "\n",
        "train_acc = accuracy_score(y_true=y_train, y_pred=best_algo.predict(X_train))\n",
        "test_acc = accuracy_score(y_true=y_test, y_pred=best_algo.predict(X_test))\n",
        "\n",
        "\n",
        "#get test set error of this classifier    \n",
        "print('Accuracy %.2f%% (average over CV test folds)' %\n",
        "      (100 * best_algo.best_score_))\n",
        "print('Best Parameters: %s' % gridcvs['KNN'].best_params_)\n",
        "print('Training Accuracy: %.2f%%' % (100 * train_acc))\n",
        "print('Test Accuracy: %.2f%%' % (100 * test_acc))\n",
        "\n",
        "train_scores = {}\n",
        "test_scores = {}\n",
        "\n",
        "train_scores['KNN Train Score'] = train_acc\n",
        "test_scores['KNN Test Score'] = test_acc"
      ],
      "execution_count": null,
      "outputs": [
        {
          "output_type": "stream",
          "text": [
            "Accuracy 55.18% (average over CV test folds)\n",
            "Best Parameters: {'classifier__n_neighbors': 15, 'classifier__weights': 'distance'}\n",
            "Training Accuracy: 99.58%\n",
            "Test Accuracy: 56.29%\n"
          ],
          "name": "stdout"
        }
      ]
    },
    {
      "cell_type": "code",
      "metadata": {
        "colab": {
          "base_uri": "https://localhost:8080/"
        },
        "id": "IDLYJ89dT2AW",
        "outputId": "46066721-efb1-4130-a8f8-276dc7973e87"
      },
      "source": [
        "#with best classifier, train on all training data \n",
        "# Fitting a model to the whole training using the \"best\" algorithm\n",
        "best_algo = gridcvs['Logistic_Reg']\n",
        "best_algo.fit(X_train, y_train)\n",
        "\n",
        "train_acc = accuracy_score(y_true=y_train, y_pred=best_algo.predict(X_train))\n",
        "test_acc = accuracy_score(y_true=y_test, y_pred=best_algo.predict(X_test))\n",
        "\n",
        "\n",
        "#get test set error of this classifier    \n",
        "print('Accuracy %.2f%% (average over CV test folds)' %\n",
        "      (100 * best_algo.best_score_))\n",
        "print('Best Parameters: %s' % gridcvs['Logistic_Reg'].best_params_)\n",
        "print('Training Accuracy: %.2f%%' % (100 * train_acc))\n",
        "print('Test Accuracy: %.2f%%' % (100 * test_acc))\n",
        "\n",
        "train_scores = {}\n",
        "test_scores = {}\n",
        "\n",
        "train_scores['Logistic_Reg Train Score'] = train_acc\n",
        "test_scores['Logistic_Reg Test Score'] = test_acc"
      ],
      "execution_count": null,
      "outputs": [
        {
          "output_type": "stream",
          "text": [
            "Accuracy 61.36% (average over CV test folds)\n",
            "Best Parameters: {'classifier__C': 10.0, 'classifier__penalty': 'l2'}\n",
            "Training Accuracy: 63.36%\n",
            "Test Accuracy: 61.00%\n"
          ],
          "name": "stdout"
        }
      ]
    },
    {
      "cell_type": "code",
      "metadata": {
        "colab": {
          "base_uri": "https://localhost:8080/"
        },
        "id": "I4PY6XRST5SZ",
        "outputId": "cf4a6425-62eb-46b9-bb09-0c47fe9dd9de"
      },
      "source": [
        "#with best classifier, train on all training data \n",
        "# Fitting a model to the whole training using the \"best\" algorithm\n",
        "best_algo = gridcvs['Decision_Tree']\n",
        "best_algo.fit(X_train, y_train)\n",
        "\n",
        "train_acc = accuracy_score(y_true=y_train, y_pred=best_algo.predict(X_train))\n",
        "test_acc = accuracy_score(y_true=y_test, y_pred=best_algo.predict(X_test))\n",
        "\n",
        "\n",
        "#get test set error of this classifier    \n",
        "print('Accuracy %.2f%% (average over CV test folds)' %\n",
        "      (100 * best_algo.best_score_))\n",
        "print('Best Parameters: %s' % gridcvs['Decision_Tree'].best_params_)\n",
        "print('Training Accuracy: %.2f%%' % (100 * train_acc))\n",
        "print('Test Accuracy: %.2f%%' % (100 * test_acc))\n",
        "# arrays for test scores\n",
        "train_scores = {}\n",
        "test_scores = {}\n",
        "\n",
        "train_scores['Decision_Tree Train Score'] = train_acc\n",
        "test_scores['Decision_Tree Test Score'] = test_acc"
      ],
      "execution_count": null,
      "outputs": [
        {
          "output_type": "stream",
          "text": [
            "Accuracy 64.84% (average over CV test folds)\n",
            "Best Parameters: {'classifier__max_depth': 8}\n",
            "Training Accuracy: 73.28%\n",
            "Test Accuracy: 65.09%\n"
          ],
          "name": "stdout"
        }
      ]
    },
    {
      "cell_type": "markdown",
      "metadata": {
        "id": "todM2yl08WBD"
      },
      "source": [
        "# Cov Set"
      ]
    },
    {
      "cell_type": "code",
      "metadata": {
        "colab": {
          "base_uri": "https://localhost:8080/"
        },
        "id": "1ujiFQjd8cXj",
        "outputId": "201d3ab1-56db-40f7-917c-c1c54e203ad4"
      },
      "source": [
        "NUM_TRIALS = 3\n",
        "\n",
        "#loop for each of the 3 trials\n",
        "for x in range(NUM_TRIALS):\n",
        "    #randomly select 5000 samples as training set; set aside rest for testing  \n",
        "    X_p = df3.iloc[:,:-1]\n",
        "    y_p = df3.iloc[:,-1]\n",
        "    X_train, X_test, y_train, y_test = train_test_split(X_p, y_p,\n",
        "                                                        train_size=5000,\n",
        "                                                    random_state=12345)\n",
        "    \n",
        "    # Initializing Classifiers (logistic regression, knn, random forests & decision trees) \n",
        "    lr_classifier = LogisticRegression()\n",
        "    knn_classifier = KNeighborsClassifier()\n",
        "    dt_classifier = tree.DecisionTreeClassifier()\n",
        "\n",
        "    # Building the pipelines\n",
        "    lr_pipe = Pipeline([('std', StandardScaler()),\n",
        "                      ('classifier', lr_classifier)])\n",
        "\n",
        "    knn_pipe = Pipeline([('std', StandardScaler()),\n",
        "                      ('classifier', knn_classifier)])\n",
        "\n",
        "    dt_pipe = Pipeline([('std', StandardScaler()),\n",
        "                      ('classifier', dt_classifier)])\n",
        "\n",
        "\n",
        "    #parameters for LR \n",
        "    MAX_ITER = 4000 \n",
        "    reg_params = np.power(10., np.arange(-8,4)) #param for regularization\n",
        "\n",
        "    #parameters for KNN \n",
        "    weights = ['uniform', 'distance']\n",
        "    k_values = [n*15 for n in range(1,21)] \n",
        "\n",
        "    #parameters for DT\n",
        "    max_depth = np.array([1,2,3,4,5,6,7,8,9,10])\n",
        "\n",
        "\n",
        "    # Setting up the parameter grids\n",
        "    lr_param_grid = [{'classifier__penalty': ['11','l2'],\n",
        "                    'classifier__C': reg_params}]\n",
        "\n",
        "    knn_param_grid = [{'classifier__weights': weights,\n",
        "                    'classifier__n_neighbors': k_values}]\n",
        "\n",
        "    dt_param_grid = [{'classifier__max_depth':max_depth}]\n",
        "\n",
        "\n",
        "    #scoring metrics\n",
        "    scoring_metrics = ['accuracy', 'precision', 'recall', 'f1']\n",
        "\n",
        "    #perform 5-fold cross validation on training set      \n",
        "    # Setting up multiple GridSearchCV objects, 1 for each algorithm\n",
        "    gridcvs = {}\n",
        "\n",
        "    for pgrid, est, name in zip((lr_param_grid, knn_param_grid,dt_param_grid),\n",
        "                                (lr_pipe, knn_pipe, dt_pipe),\n",
        "                                ('Logistic_Reg', 'KNN', 'Decision_Tree')):\n",
        "        gcv = GridSearchCV(estimator=est,\n",
        "                           param_grid=pgrid,\n",
        "                           scoring=scoring_metrics,\n",
        "                           n_jobs=3,\n",
        "                           cv=5, # just 2-fold inner loop, i.e. train/test\n",
        "                           verbose=0,\n",
        "                           return_train_score=True,\n",
        "                           refit='accuracy')\n",
        "        gridcvs[name] = gcv\n",
        "\n",
        "    cv_scores = {name: [] for name, gs_est in gridcvs.items()}\n",
        "    skfold = StratifiedKFold(n_splits=5, shuffle=True, random_state=1)\n",
        "\n",
        "    # The outer loop for algorithm selection\n",
        "    c = 1\n",
        "    for outer_train_idx, outer_valid_idx in skfold.split(X_train,y_train):\n",
        "        for name, gs_est in sorted(gridcvs.items()):\n",
        "            print('outer fold %d/5 | tuning %-8s' % (c, name), end='')\n",
        "\n",
        "            # The inner loop for hyperparameter tuning\n",
        "            gs_est.fit(X_train.iloc[outer_train_idx], y_train.iloc[outer_train_idx])\n",
        "            y_pred = gs_est.predict(X_train.iloc[outer_valid_idx])\n",
        "            acc = accuracy_score(y_true=y_train.iloc[outer_valid_idx], y_pred=y_pred)\n",
        "            print(' | inner ACC %.2f%% | outer ACC %.2f%%' %\n",
        "                  (gs_est.best_score_ * 100, acc * 100))\n",
        "            cv_scores[name].append(acc)\n",
        "\n",
        "        c += 1\n",
        "    #find best classifier by looking at results\n",
        "    for name in cv_scores:\n",
        "        print('%-8s | outer CV acc. %.2f%% +\\- %.3f' % (\n",
        "              name, 100 * np.mean(cv_scores[name]), 100 * np.std(cv_scores[name])))\n",
        "    print()\n",
        "    for name in cv_scores:\n",
        "        print('{} best parameters'.format(name), gridcvs[name].best_params_)\n",
        "    \n",
        "    best_params = gridcvs[name].best_estimator_.fit(X_train, y_train)"
      ],
      "execution_count": null,
      "outputs": [
        {
          "output_type": "stream",
          "text": [
            "outer fold 1/5 | tuning Decision_Tree | inner ACC 76.05% | outer ACC 73.70%\n",
            "outer fold 1/5 | tuning KNN      | inner ACC 76.02% | outer ACC 77.40%\n",
            "outer fold 1/5 | tuning Logistic_Reg | inner ACC 74.98% | outer ACC 76.90%\n",
            "outer fold 2/5 | tuning Decision_Tree | inner ACC 75.38% | outer ACC 74.80%\n",
            "outer fold 2/5 | tuning KNN      | inner ACC 75.50% | outer ACC 75.90%\n",
            "outer fold 2/5 | tuning Logistic_Reg | inner ACC 76.27% | outer ACC 74.20%\n",
            "outer fold 3/5 | tuning Decision_Tree | inner ACC 74.55% | outer ACC 78.00%\n",
            "outer fold 3/5 | tuning KNN      | inner ACC 74.65% | outer ACC 76.80%\n",
            "outer fold 3/5 | tuning Logistic_Reg | inner ACC 74.98% | outer ACC 76.30%\n",
            "outer fold 4/5 | tuning Decision_Tree | inner ACC 75.30% | outer ACC 75.80%\n",
            "outer fold 4/5 | tuning KNN      | inner ACC 75.77% | outer ACC 75.20%\n",
            "outer fold 4/5 | tuning Logistic_Reg | inner ACC 75.65% | outer ACC 75.80%\n",
            "outer fold 5/5 | tuning Decision_Tree | inner ACC 74.45% | outer ACC 74.00%\n",
            "outer fold 5/5 | tuning KNN      | inner ACC 75.70% | outer ACC 75.10%\n",
            "outer fold 5/5 | tuning Logistic_Reg | inner ACC 75.35% | outer ACC 75.50%\n",
            "Logistic_Reg | outer CV acc. 75.74% +\\- 0.905\n",
            "KNN      | outer CV acc. 76.08% +\\- 0.898\n",
            "Decision_Tree | outer CV acc. 75.26% +\\- 1.551\n",
            "\n",
            "Logistic_Reg best parameters {'classifier__C': 10.0, 'classifier__penalty': 'l2'}\n",
            "KNN best parameters {'classifier__n_neighbors': 15, 'classifier__weights': 'distance'}\n",
            "Decision_Tree best parameters {'classifier__max_depth': 6}\n",
            "outer fold 1/5 | tuning Decision_Tree | inner ACC 76.00% | outer ACC 73.70%\n",
            "outer fold 1/5 | tuning KNN      | inner ACC 76.02% | outer ACC 77.40%\n",
            "outer fold 1/5 | tuning Logistic_Reg | inner ACC 74.98% | outer ACC 76.90%\n",
            "outer fold 2/5 | tuning Decision_Tree | inner ACC 75.12% | outer ACC 74.60%\n",
            "outer fold 2/5 | tuning KNN      | inner ACC 75.50% | outer ACC 75.90%\n",
            "outer fold 2/5 | tuning Logistic_Reg | inner ACC 76.27% | outer ACC 74.20%\n",
            "outer fold 3/5 | tuning Decision_Tree | inner ACC 74.60% | outer ACC 77.60%\n",
            "outer fold 3/5 | tuning KNN      | inner ACC 74.65% | outer ACC 76.80%\n",
            "outer fold 3/5 | tuning Logistic_Reg | inner ACC 74.98% | outer ACC 76.30%\n",
            "outer fold 4/5 | tuning Decision_Tree | inner ACC 75.30% | outer ACC 75.50%\n",
            "outer fold 4/5 | tuning KNN      | inner ACC 75.77% | outer ACC 75.20%\n",
            "outer fold 4/5 | tuning Logistic_Reg | inner ACC 75.65% | outer ACC 75.80%\n",
            "outer fold 5/5 | tuning Decision_Tree | inner ACC 74.53% | outer ACC 74.30%\n",
            "outer fold 5/5 | tuning KNN      | inner ACC 75.70% | outer ACC 75.10%\n",
            "outer fold 5/5 | tuning Logistic_Reg | inner ACC 75.35% | outer ACC 75.50%\n",
            "Logistic_Reg | outer CV acc. 75.74% +\\- 0.905\n",
            "KNN      | outer CV acc. 76.08% +\\- 0.898\n",
            "Decision_Tree | outer CV acc. 75.14% +\\- 1.360\n",
            "\n",
            "Logistic_Reg best parameters {'classifier__C': 10.0, 'classifier__penalty': 'l2'}\n",
            "KNN best parameters {'classifier__n_neighbors': 15, 'classifier__weights': 'distance'}\n",
            "Decision_Tree best parameters {'classifier__max_depth': 9}\n",
            "outer fold 1/5 | tuning Decision_Tree | inner ACC 76.05% | outer ACC 73.90%\n",
            "outer fold 1/5 | tuning KNN      | inner ACC 76.02% | outer ACC 77.40%\n",
            "outer fold 1/5 | tuning Logistic_Reg | inner ACC 74.98% | outer ACC 76.90%\n",
            "outer fold 2/5 | tuning Decision_Tree | inner ACC 75.52% | outer ACC 75.30%\n",
            "outer fold 2/5 | tuning KNN      | inner ACC 75.50% | outer ACC 75.90%\n",
            "outer fold 2/5 | tuning Logistic_Reg | inner ACC 76.27% | outer ACC 74.20%\n",
            "outer fold 3/5 | tuning Decision_Tree | inner ACC 74.55% | outer ACC 78.40%\n",
            "outer fold 3/5 | tuning KNN      | inner ACC 74.65% | outer ACC 76.80%\n",
            "outer fold 3/5 | tuning Logistic_Reg | inner ACC 74.98% | outer ACC 76.30%\n",
            "outer fold 4/5 | tuning Decision_Tree | inner ACC 75.25% | outer ACC 76.10%\n",
            "outer fold 4/5 | tuning KNN      | inner ACC 75.77% | outer ACC 75.20%\n",
            "outer fold 4/5 | tuning Logistic_Reg | inner ACC 75.65% | outer ACC 75.80%\n",
            "outer fold 5/5 | tuning Decision_Tree | inner ACC 74.67% | outer ACC 74.10%\n",
            "outer fold 5/5 | tuning KNN      | inner ACC 75.70% | outer ACC 75.10%\n",
            "outer fold 5/5 | tuning Logistic_Reg | inner ACC 75.35% | outer ACC 75.50%\n",
            "Logistic_Reg | outer CV acc. 75.74% +\\- 0.905\n",
            "KNN      | outer CV acc. 76.08% +\\- 0.898\n",
            "Decision_Tree | outer CV acc. 75.56% +\\- 1.632\n",
            "\n",
            "Logistic_Reg best parameters {'classifier__C': 10.0, 'classifier__penalty': 'l2'}\n",
            "KNN best parameters {'classifier__n_neighbors': 15, 'classifier__weights': 'distance'}\n",
            "Decision_Tree best parameters {'classifier__max_depth': 10}\n"
          ],
          "name": "stdout"
        }
      ]
    },
    {
      "cell_type": "code",
      "metadata": {
        "colab": {
          "base_uri": "https://localhost:8080/"
        },
        "id": "MGiXUN3pGtB0",
        "outputId": "0108e5b5-f9ce-4ef3-ff56-d09cf5929cf1"
      },
      "source": [
        "#with best classifier, train on all training data \n",
        "# Fitting a model to the whole training using the \"best\" algorithm\n",
        "best_algo = gridcvs['KNN']\n",
        "best_algo.fit(X_train, y_train)\n",
        "\n",
        "train_acc = accuracy_score(y_true=y_train, y_pred=best_algo.predict(X_train))\n",
        "test_acc = accuracy_score(y_true=y_test, y_pred=best_algo.predict(X_test))\n",
        "\n",
        "\n",
        "#get test set error of this classifier    \n",
        "print('Accuracy %.2f%% (average over CV test folds)' %\n",
        "      (100 * best_algo.best_score_))\n",
        "print('Best Parameters: %s' % gridcvs['KNN'].best_params_)\n",
        "print('Training Accuracy: %.2f%%' % (100 * train_acc))\n",
        "print('Test Accuracy: %.2f%%' % (100 * test_acc))\n",
        "\n",
        "train_scores = {}\n",
        "test_scores = {}\n",
        "\n",
        "train_scores['KNN Train Score'] = train_acc\n",
        "test_scores['KNN Test Score'] = test_acc"
      ],
      "execution_count": null,
      "outputs": [
        {
          "output_type": "stream",
          "text": [
            "Accuracy 76.48% (average over CV test folds)\n",
            "Best Parameters: {'classifier__n_neighbors': 15, 'classifier__weights': 'distance'}\n",
            "Training Accuracy: 100.00%\n",
            "Test Accuracy: 77.48%\n"
          ],
          "name": "stdout"
        }
      ]
    },
    {
      "cell_type": "code",
      "metadata": {
        "colab": {
          "base_uri": "https://localhost:8080/"
        },
        "id": "B8HbXJOJGy67",
        "outputId": "a2da7524-66e9-4573-e866-fc7b0b5abc4c"
      },
      "source": [
        "#with best classifier, train on all training data \n",
        "# Fitting a model to the whole training using the \"best\" algorithm\n",
        "best_algo = gridcvs['Logistic_Reg']\n",
        "best_algo.fit(X_train, y_train)\n",
        "\n",
        "train_acc = accuracy_score(y_true=y_train, y_pred=best_algo.predict(X_train))\n",
        "test_acc = accuracy_score(y_true=y_test, y_pred=best_algo.predict(X_test))\n",
        "\n",
        "\n",
        "#get test set error of this classifier    \n",
        "print('Accuracy %.2f%% (average over CV test folds)' %\n",
        "      (100 * best_algo.best_score_))\n",
        "print('Best Parameters: %s' % gridcvs['Logistic_Reg'].best_params_)\n",
        "print('Training Accuracy: %.2f%%' % (100 * train_acc))\n",
        "print('Test Accuracy: %.2f%%' % (100 * test_acc))\n",
        "\n",
        "train_scores = {}\n",
        "test_scores = {}\n",
        "\n",
        "train_scores['Logistic_Reg Train Score'] = train_acc\n",
        "test_scores['Logistic_Reg Test Score'] = test_acc"
      ],
      "execution_count": null,
      "outputs": [
        {
          "output_type": "stream",
          "text": [
            "Accuracy 75.52% (average over CV test folds)\n",
            "Best Parameters: {'classifier__C': 0.1, 'classifier__penalty': 'l2'}\n",
            "Training Accuracy: 76.48%\n",
            "Test Accuracy: 74.93%\n"
          ],
          "name": "stdout"
        }
      ]
    },
    {
      "cell_type": "code",
      "metadata": {
        "colab": {
          "base_uri": "https://localhost:8080/"
        },
        "id": "BKplH3bPHCbO",
        "outputId": "94065f2e-8c87-4441-86ee-797aa990432d"
      },
      "source": [
        "#with best classifier, train on all training data \n",
        "# Fitting a model to the whole training using the \"best\" algorithm\n",
        "best_algo = gridcvs['Decision_Tree']\n",
        "best_algo.fit(X_train, y_train)\n",
        "\n",
        "train_acc = accuracy_score(y_true=y_train, y_pred=best_algo.predict(X_train))\n",
        "test_acc = accuracy_score(y_true=y_test, y_pred=best_algo.predict(X_test))\n",
        "\n",
        "\n",
        "#get test set error of this classifier    \n",
        "print('Accuracy %.2f%% (average over CV test folds)' %\n",
        "      (100 * best_algo.best_score_))\n",
        "print('Best Parameters: %s' % gridcvs['Decision_Tree'].best_params_)\n",
        "print('Training Accuracy: %.2f%%' % (100 * train_acc))\n",
        "print('Test Accuracy: %.2f%%' % (100 * test_acc))\n",
        "# arrays for test scores\n",
        "train_scores = {}\n",
        "test_scores = {}\n",
        "\n",
        "train_scores['Decision_Tree Train Score'] = train_acc\n",
        "test_scores['Decision_Tree Test Score'] = test_acc"
      ],
      "execution_count": null,
      "outputs": [
        {
          "output_type": "stream",
          "text": [
            "Accuracy 76.20% (average over CV test folds)\n",
            "Best Parameters: {'classifier__max_depth': 10}\n",
            "Training Accuracy: 85.74%\n",
            "Test Accuracy: 77.30%\n"
          ],
          "name": "stdout"
        }
      ]
    },
    {
      "cell_type": "markdown",
      "metadata": {
        "id": "1ZwDL_ocHC5q"
      },
      "source": [
        "# Ttest"
      ]
    },
    {
      "cell_type": "code",
      "metadata": {
        "id": "_XnidWxhHFni"
      },
      "source": [
        "knn = [0.8306,0.8306,0.8306,0.5532,0.5532,0.5532,0.7608,0.7608,0.7608]\n",
        "lr  = [0.845,0.845,0.845,0.6124,0.6124,0.6124,0.7574,0.7574,0.7574]\n",
        "dt  = [0.8416,0.842,0.842,0.6478,0.647,0.647,0.7526,0.7514,0.7556]"
      ],
      "execution_count": 8,
      "outputs": []
    },
    {
      "cell_type": "code",
      "metadata": {
        "colab": {
          "base_uri": "https://localhost:8080/"
        },
        "id": "8SjhZMOObvH7",
        "outputId": "cd5dbcd5-7f37-484b-edee-1047cc9bfe73"
      },
      "source": [
        "stats.ttest_ind(lr,dt)"
      ],
      "execution_count": 9,
      "outputs": [
        {
          "output_type": "execute_result",
          "data": {
            "text/plain": [
              "Ttest_indResult(statistic=-0.20830791887880992, pvalue=0.8376171407451202)"
            ]
          },
          "metadata": {
            "tags": []
          },
          "execution_count": 9
        }
      ]
    },
    {
      "cell_type": "code",
      "metadata": {
        "colab": {
          "base_uri": "https://localhost:8080/"
        },
        "id": "ojKEpoYxb11q",
        "outputId": "e83f2883-0e11-44ea-cfbb-ec7721f26b84"
      },
      "source": [
        "stats.ttest_ind(lr,knn)"
      ],
      "execution_count": 10,
      "outputs": [
        {
          "output_type": "execute_result",
          "data": {
            "text/plain": [
              "Ttest_indResult(statistic=0.435653065454439, pvalue=0.6689087390797712)"
            ]
          },
          "metadata": {
            "tags": []
          },
          "execution_count": 10
        }
      ]
    },
    {
      "cell_type": "code",
      "metadata": {
        "colab": {
          "base_uri": "https://localhost:8080/"
        },
        "id": "vD8CoAgVc5S1",
        "outputId": "b30ed51b-02c0-4c5f-f854-7a42f1639526"
      },
      "source": [
        "stats.ttest_ind(dt,knn)"
      ],
      "execution_count": 11,
      "outputs": [
        {
          "output_type": "execute_result",
          "data": {
            "text/plain": [
              "Ttest_indResult(statistic=0.6481735983845635, pvalue=0.5260660604880167)"
            ]
          },
          "metadata": {
            "tags": []
          },
          "execution_count": 11
        }
      ]
    },
    {
      "cell_type": "code",
      "metadata": {
        "id": "S2g7qPnEdF1g"
      },
      "source": [
        "t,p = ttest_rel(lr,dt)"
      ],
      "execution_count": 12,
      "outputs": []
    },
    {
      "cell_type": "code",
      "metadata": {
        "colab": {
          "base_uri": "https://localhost:8080/"
        },
        "id": "mFX611radg1c",
        "outputId": "bba5296a-04b5-4f99-8bf7-6400a61e5367"
      },
      "source": [
        "t"
      ],
      "execution_count": 13,
      "outputs": [
        {
          "output_type": "execute_result",
          "data": {
            "text/plain": [
              "-1.426282783789128"
            ]
          },
          "metadata": {
            "tags": []
          },
          "execution_count": 13
        }
      ]
    },
    {
      "cell_type": "code",
      "metadata": {
        "colab": {
          "base_uri": "https://localhost:8080/"
        },
        "id": "5DxEafssdh4a",
        "outputId": "8bffad17-e5d6-4421-ee5d-2fa2aec11e28"
      },
      "source": [
        "p"
      ],
      "execution_count": 14,
      "outputs": [
        {
          "output_type": "execute_result",
          "data": {
            "text/plain": [
              "0.19162201016244912"
            ]
          },
          "metadata": {
            "tags": []
          },
          "execution_count": 14
        }
      ]
    },
    {
      "cell_type": "code",
      "metadata": {
        "id": "GILk4y4jdimY"
      },
      "source": [
        "knn_acc = [.8356,.5518,.7648]\n",
        "lr_acc = [.848,.6136,.7552]\n",
        "dt_acc = [.843, .6484, .762]\n"
      ],
      "execution_count": 15,
      "outputs": []
    },
    {
      "cell_type": "code",
      "metadata": {
        "colab": {
          "base_uri": "https://localhost:8080/"
        },
        "id": "iq0PcdToeZ_u",
        "outputId": "301e9110-6b18-42c9-f8e7-0c67f94d8340"
      },
      "source": [
        "stats.ttest_ind(lr_acc,dt_acc)"
      ],
      "execution_count": 16,
      "outputs": [
        {
          "output_type": "execute_result",
          "data": {
            "text/plain": [
              "Ttest_indResult(statistic=-0.13787248198004162, pvalue=0.8970031045060598)"
            ]
          },
          "metadata": {
            "tags": []
          },
          "execution_count": 16
        }
      ]
    },
    {
      "cell_type": "code",
      "metadata": {
        "colab": {
          "base_uri": "https://localhost:8080/"
        },
        "id": "dcASUF4weaMd",
        "outputId": "52b945db-e026-4516-beb4-d668f8d70300"
      },
      "source": [
        "stats.ttest_ind(lr_acc,knn_acc)"
      ],
      "execution_count": 17,
      "outputs": [
        {
          "output_type": "execute_result",
          "data": {
            "text/plain": [
              "Ttest_indResult(statistic=0.1972439365054618, pvalue=0.8532539613184058)"
            ]
          },
          "metadata": {
            "tags": []
          },
          "execution_count": 17
        }
      ]
    },
    {
      "cell_type": "code",
      "metadata": {
        "colab": {
          "base_uri": "https://localhost:8080/"
        },
        "id": "qrwPy12MeqtV",
        "outputId": "99593ee4-1817-47d1-b0ce-dc7950b91557"
      },
      "source": [
        "stats.ttest_ind(dt_acc,knn_acc)"
      ],
      "execution_count": 18,
      "outputs": [
        {
          "output_type": "execute_result",
          "data": {
            "text/plain": [
              "Ttest_indResult(statistic=0.3298506968489816, pvalue=0.7580638975682193)"
            ]
          },
          "metadata": {
            "tags": []
          },
          "execution_count": 18
        }
      ]
    },
    {
      "cell_type": "code",
      "metadata": {
        "id": "_FpwBIv0eve_"
      },
      "source": [
        "t2,p2 = ttest_rel(lr_acc,dt_acc)"
      ],
      "execution_count": 19,
      "outputs": []
    },
    {
      "cell_type": "code",
      "metadata": {
        "colab": {
          "base_uri": "https://localhost:8080/"
        },
        "id": "XpthKzDle2tk",
        "outputId": "7a3224a5-1037-45d8-87e7-3035bde7a0a0"
      },
      "source": [
        "t2"
      ],
      "execution_count": 20,
      "outputs": [
        {
          "output_type": "execute_result",
          "data": {
            "text/plain": [
              "-1.0337003540384972"
            ]
          },
          "metadata": {
            "tags": []
          },
          "execution_count": 20
        }
      ]
    },
    {
      "cell_type": "code",
      "metadata": {
        "colab": {
          "base_uri": "https://localhost:8080/"
        },
        "id": "rllHoRHYe3l8",
        "outputId": "abe356d3-29e4-4e58-b446-9cc0c993f8c8"
      },
      "source": [
        "p2"
      ],
      "execution_count": 21,
      "outputs": [
        {
          "output_type": "execute_result",
          "data": {
            "text/plain": [
              "0.40989536781032143"
            ]
          },
          "metadata": {
            "tags": []
          },
          "execution_count": 21
        }
      ]
    },
    {
      "cell_type": "code",
      "metadata": {
        "id": "zWuYAyyke4Lm"
      },
      "source": [
        ""
      ],
      "execution_count": 21,
      "outputs": []
    }
  ]
}
